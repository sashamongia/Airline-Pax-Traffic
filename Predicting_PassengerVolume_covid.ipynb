{
  "nbformat": 4,
  "nbformat_minor": 0,
  "metadata": {
    "colab": {
      "provenance": [],
      "toc_visible": true,
      "authorship_tag": "ABX9TyON1bAGOMaO2RDnvLqi173d",
      "include_colab_link": true
    },
    "kernelspec": {
      "name": "python3",
      "display_name": "Python 3"
    },
    "language_info": {
      "name": "python"
    }
  },
  "cells": [
    {
      "cell_type": "markdown",
      "metadata": {
        "id": "view-in-github",
        "colab_type": "text"
      },
      "source": [
        "<a href=\"https://colab.research.google.com/github/sashamongia/Airline-Pax-Traffic/blob/main/Predicting_PassengerVolume_covid.ipynb\" target=\"_parent\"><img src=\"https://colab.research.google.com/assets/colab-badge.svg\" alt=\"Open In Colab\"/></a>"
      ]
    },
    {
      "cell_type": "markdown",
      "source": [
        "#Importing Packages"
      ],
      "metadata": {
        "id": "y9cvnVmA087Q"
      }
    },
    {
      "cell_type": "code",
      "execution_count": 1,
      "metadata": {
        "id": "pI5Aw-xTDzLJ"
      },
      "outputs": [],
      "source": [
        "import os\n",
        "import pandas as pd\n",
        "import numpy as np\n",
        "import seaborn as sns\n",
        "import matplotlib.pyplot as plt\n",
        "import matplotlib.pylab as pylab\n",
        "from matplotlib import cm\n",
        "%matplotlib inline\n",
        "import matplotlib.pylab as pylab\n",
        "pylab.rcParams['figure.figsize'] = 10, 5\n",
        "pd.set_option('display.max_columns', 100)\n",
        "import io\n",
        "import requests\n",
        "import warnings\n",
        "import csv\n",
        "np.random.seed(27)\n",
        "warnings.filterwarnings('ignore')\n",
        "with warnings.catch_warnings():\n",
        "    warnings.filterwarnings(\"ignore\",category=DeprecationWarning)\n",
        "\n",
        "import sklearn\n",
        "from sklearn.cluster import KMeans\n",
        "from sklearn.preprocessing import StandardScaler\n",
        "from sklearn.preprocessing import LabelEncoder\n",
        "import sklearn.metrics as sm\n",
        "from sklearn.metrics import confusion_matrix, classification_report\n",
        "from scipy import stats\n",
        "import matplotlib.pyplot as plt\n",
        "from matplotlib import rcParams\n",
        "import seaborn as sns\n",
        "from sklearn.cluster import KMeans\n",
        "from sklearn.metrics import silhouette_score, silhouette_samples\n",
        "import statsmodels.formula.api as sm\n",
        "\n",
        "import matplotlib.pyplot as plt\n",
        "from mpl_toolkits.mplot3d import Axes3D\n",
        "from sklearn.model_selection import train_test_split\n",
        "from xgboost import XGBRegressor\n",
        "from sklearn.metrics import mean_squared_error\n",
        "from sklearn.preprocessing import StandardScaler\n",
        "from sklearn.linear_model import LinearRegression\n",
        "from sklearn.ensemble import RandomForestRegressor\n",
        "from sklearn.svm import SVR\n",
        "from sklearn.feature_selection import RFE\n",
        "import holidays\n",
        "from sklearn.model_selection import TimeSeriesSplit\n",
        "import xgboost as xgb\n",
        "from sklearn.impute import SimpleImputer"
      ]
    },
    {
      "cell_type": "markdown",
      "source": [
        "# Uploading Dataset+ Data Cleaning\n"
      ],
      "metadata": {
        "id": "fbo1J-T_1OCv"
      }
    },
    {
      "cell_type": "markdown",
      "source": [
        "TSA Checkpoint dataset: Includes Dates and Passenger Inflow to the airports in USA"
      ],
      "metadata": {
        "id": "GyrFymYIz7u0"
      }
    },
    {
      "cell_type": "code",
      "source": [
        "# Downloading the csv file\n",
        "url = \"https://raw.githubusercontent.com/sashamongia/Airline-Pax-Traffic/main/TSA%20checkpoint%20data.csv\"\n",
        "download = requests.get(url).content\n",
        "\n",
        "# Reading the downloaded content and turning it into a pandas dataframe\n",
        "\n",
        "df = pd.read_csv(io.StringIO(download.decode('utf-8')))"
      ],
      "metadata": {
        "id": "XHz-8C9q5xp4"
      },
      "execution_count": 2,
      "outputs": []
    },
    {
      "cell_type": "code",
      "source": [
        "#Check column names\n",
        "df.columns"
      ],
      "metadata": {
        "colab": {
          "base_uri": "https://localhost:8080/"
        },
        "id": "6oy7Kj1i6OA5",
        "outputId": "2002ffa6-03c0-4ded-de74-72bcdd8ca7f6"
      },
      "execution_count": 3,
      "outputs": [
        {
          "output_type": "execute_result",
          "data": {
            "text/plain": [
              "Index(['Date', '2023', '2022', '2021', '2020', '2019'], dtype='object')"
            ]
          },
          "metadata": {},
          "execution_count": 3
        }
      ]
    },
    {
      "cell_type": "code",
      "source": [
        "# Reshape the DataFrame using the melt() function\n",
        "stacked_df = df.melt(id_vars='Date', var_name='Year', value_name='Passenger Numbers')\n",
        "\n",
        "print(stacked_df)"
      ],
      "metadata": {
        "colab": {
          "base_uri": "https://localhost:8080/"
        },
        "id": "DMO7FE-H6-Em",
        "outputId": "4f9f293b-4a14-4cda-f4e1-bd8263fbd605"
      },
      "execution_count": 4,
      "outputs": [
        {
          "output_type": "stream",
          "name": "stdout",
          "text": [
            "           Date  Year Passenger Numbers\n",
            "0      7/6/2023  2023         2,529,182\n",
            "1      7/5/2023  2023         2,481,122\n",
            "2      7/4/2023  2023         2,007,445\n",
            "3      7/3/2023  2023         2,288,649\n",
            "4      7/2/2023  2023         2,529,730\n",
            "...         ...   ...               ...\n",
            "1815  7/12/2022  2019         2,447,177\n",
            "1816  7/11/2022  2019         2,615,115\n",
            "1817  7/10/2022  2019         2,669,717\n",
            "1818   7/9/2022  2019         2,312,178\n",
            "1819   7/8/2022  2019         2,716,812\n",
            "\n",
            "[1820 rows x 3 columns]\n"
          ]
        }
      ]
    },
    {
      "cell_type": "code",
      "source": [
        "# Replace the year in the Date column with the year from the Year column\n",
        "stacked_df['Date'] = stacked_df.apply(lambda row: row['Date'].replace(row['Date'].split('/')[2], row['Year']), axis=1)\n",
        "\n",
        "print(stacked_df)"
      ],
      "metadata": {
        "colab": {
          "base_uri": "https://localhost:8080/"
        },
        "id": "BQRUDWSe7fTo",
        "outputId": "fbce81f5-cbcc-4e70-9877-29fad078ac05"
      },
      "execution_count": 5,
      "outputs": [
        {
          "output_type": "stream",
          "name": "stdout",
          "text": [
            "           Date  Year Passenger Numbers\n",
            "0      7/6/2023  2023         2,529,182\n",
            "1      7/5/2023  2023         2,481,122\n",
            "2      7/4/2023  2023         2,007,445\n",
            "3      7/3/2023  2023         2,288,649\n",
            "4      7/2/2023  2023         2,529,730\n",
            "...         ...   ...               ...\n",
            "1815  7/12/2019  2019         2,447,177\n",
            "1816  7/11/2019  2019         2,615,115\n",
            "1817  7/10/2019  2019         2,669,717\n",
            "1818   7/9/2019  2019         2,312,178\n",
            "1819   7/8/2019  2019         2,716,812\n",
            "\n",
            "[1820 rows x 3 columns]\n"
          ]
        }
      ]
    },
    {
      "cell_type": "code",
      "source": [
        "stacked_df['Passenger Numbers'] = stacked_df['Passenger Numbers'].str.replace(',', '').astype(float)"
      ],
      "metadata": {
        "id": "1TI-paivO95-"
      },
      "execution_count": 6,
      "outputs": []
    },
    {
      "cell_type": "code",
      "source": [
        "stacked_df.head"
      ],
      "metadata": {
        "colab": {
          "base_uri": "https://localhost:8080/"
        },
        "id": "cUeKUPZAQBtl",
        "outputId": "d4331087-df9b-41d4-be17-260eec5ffe55"
      },
      "execution_count": 7,
      "outputs": [
        {
          "output_type": "execute_result",
          "data": {
            "text/plain": [
              "<bound method NDFrame.head of            Date  Year  Passenger Numbers\n",
              "0      7/6/2023  2023          2529182.0\n",
              "1      7/5/2023  2023          2481122.0\n",
              "2      7/4/2023  2023          2007445.0\n",
              "3      7/3/2023  2023          2288649.0\n",
              "4      7/2/2023  2023          2529730.0\n",
              "...         ...   ...                ...\n",
              "1815  7/12/2019  2019          2447177.0\n",
              "1816  7/11/2019  2019          2615115.0\n",
              "1817  7/10/2019  2019          2669717.0\n",
              "1818   7/9/2019  2019          2312178.0\n",
              "1819   7/8/2019  2019          2716812.0\n",
              "\n",
              "[1820 rows x 3 columns]>"
            ]
          },
          "metadata": {},
          "execution_count": 7
        }
      ]
    },
    {
      "cell_type": "code",
      "source": [
        "nan_rows = stacked_df[np.isnan(stacked_df['Passenger Numbers'])]\n",
        "\n",
        "print(nan_rows)\n"
      ],
      "metadata": {
        "colab": {
          "base_uri": "https://localhost:8080/"
        },
        "id": "POv2RMJVQbNv",
        "outputId": "9c857f48-9f32-403d-f4bf-0cb92db65e96"
      },
      "execution_count": 8,
      "outputs": [
        {
          "output_type": "stream",
          "name": "stdout",
          "text": [
            "           Date  Year  Passenger Numbers\n",
            "187  12/31/2023  2023                NaN\n",
            "188  12/30/2023  2023                NaN\n",
            "189  12/29/2023  2023                NaN\n",
            "190  12/28/2023  2023                NaN\n",
            "191  12/27/2023  2023                NaN\n",
            "..          ...   ...                ...\n",
            "359   7/12/2023  2023                NaN\n",
            "360   7/11/2023  2023                NaN\n",
            "361   7/10/2023  2023                NaN\n",
            "362    7/9/2023  2023                NaN\n",
            "363    7/8/2023  2023                NaN\n",
            "\n",
            "[177 rows x 3 columns]\n"
          ]
        }
      ]
    },
    {
      "cell_type": "code",
      "source": [
        "#removing dates without Passenger inflow data\n",
        "stacked_df = stacked_df.dropna(subset=['Passenger Numbers'])"
      ],
      "metadata": {
        "id": "l-FFZBc2RVTP"
      },
      "execution_count": 9,
      "outputs": []
    },
    {
      "cell_type": "code",
      "source": [
        "# Check for duplicate dates\n",
        "duplicate_dates = stacked_df[stacked_df.duplicated(subset='Date', keep=False)]\n",
        "\n",
        "if duplicate_dates.empty:\n",
        "    print(\"No duplicate dates found.\")\n",
        "else:\n",
        "    print(\"Duplicate dates found:\")\n",
        "    print(duplicate_dates)\n",
        "\n"
      ],
      "metadata": {
        "colab": {
          "base_uri": "https://localhost:8080/"
        },
        "id": "w0w5Sx097MfJ",
        "outputId": "49336a98-556e-4f44-dc3d-03b70837b575"
      },
      "execution_count": 10,
      "outputs": [
        {
          "output_type": "stream",
          "name": "stdout",
          "text": [
            "No duplicate dates found.\n"
          ]
        }
      ]
    },
    {
      "cell_type": "code",
      "source": [
        "#drop year column\n",
        "final_df = stacked_df.drop('Year', axis=1)"
      ],
      "metadata": {
        "id": "mUWHb1zb9Q2F"
      },
      "execution_count": 11,
      "outputs": []
    },
    {
      "cell_type": "code",
      "source": [
        "#Upload covid dataset DataSource: https://ourworldindata.org/coronavirus\n",
        "url2 = \"https://raw.githubusercontent.com/owid/covid-19-data/master/public/data/owid-covid-data.csv\"\n",
        "download2 = requests.get(url2).content\n",
        "\n",
        "# Reading the downloaded content and turning it into a pandas dataframe\n",
        "\n",
        "df2 = pd.read_csv(io.StringIO(download2.decode('utf-8')))"
      ],
      "metadata": {
        "id": "vU8Jw4Ht9jjf"
      },
      "execution_count": 12,
      "outputs": []
    },
    {
      "cell_type": "code",
      "source": [
        "df2.shape\n",
        "df2.columns"
      ],
      "metadata": {
        "colab": {
          "base_uri": "https://localhost:8080/"
        },
        "id": "tm45YxjX-vYP",
        "outputId": "9525a1a0-233d-444b-d616-ed2a1c4d793b"
      },
      "execution_count": 13,
      "outputs": [
        {
          "output_type": "execute_result",
          "data": {
            "text/plain": [
              "Index(['iso_code', 'continent', 'location', 'date', 'total_cases', 'new_cases',\n",
              "       'new_cases_smoothed', 'total_deaths', 'new_deaths',\n",
              "       'new_deaths_smoothed', 'total_cases_per_million',\n",
              "       'new_cases_per_million', 'new_cases_smoothed_per_million',\n",
              "       'total_deaths_per_million', 'new_deaths_per_million',\n",
              "       'new_deaths_smoothed_per_million', 'reproduction_rate', 'icu_patients',\n",
              "       'icu_patients_per_million', 'hosp_patients',\n",
              "       'hosp_patients_per_million', 'weekly_icu_admissions',\n",
              "       'weekly_icu_admissions_per_million', 'weekly_hosp_admissions',\n",
              "       'weekly_hosp_admissions_per_million', 'total_tests', 'new_tests',\n",
              "       'total_tests_per_thousand', 'new_tests_per_thousand',\n",
              "       'new_tests_smoothed', 'new_tests_smoothed_per_thousand',\n",
              "       'positive_rate', 'tests_per_case', 'tests_units', 'total_vaccinations',\n",
              "       'people_vaccinated', 'people_fully_vaccinated', 'total_boosters',\n",
              "       'new_vaccinations', 'new_vaccinations_smoothed',\n",
              "       'total_vaccinations_per_hundred', 'people_vaccinated_per_hundred',\n",
              "       'people_fully_vaccinated_per_hundred', 'total_boosters_per_hundred',\n",
              "       'new_vaccinations_smoothed_per_million',\n",
              "       'new_people_vaccinated_smoothed',\n",
              "       'new_people_vaccinated_smoothed_per_hundred', 'stringency_index',\n",
              "       'population_density', 'median_age', 'aged_65_older', 'aged_70_older',\n",
              "       'gdp_per_capita', 'extreme_poverty', 'cardiovasc_death_rate',\n",
              "       'diabetes_prevalence', 'female_smokers', 'male_smokers',\n",
              "       'handwashing_facilities', 'hospital_beds_per_thousand',\n",
              "       'life_expectancy', 'human_development_index', 'population',\n",
              "       'excess_mortality_cumulative_absolute', 'excess_mortality_cumulative',\n",
              "       'excess_mortality', 'excess_mortality_cumulative_per_million'],\n",
              "      dtype='object')"
            ]
          },
          "metadata": {},
          "execution_count": 13
        }
      ]
    },
    {
      "cell_type": "code",
      "source": [
        "df2.head"
      ],
      "metadata": {
        "colab": {
          "base_uri": "https://localhost:8080/"
        },
        "id": "pAEohy_LCGxI",
        "outputId": "59cbdd4f-2ed3-4df8-e85c-043191a17cf2"
      },
      "execution_count": 14,
      "outputs": [
        {
          "output_type": "execute_result",
          "data": {
            "text/plain": [
              "<bound method NDFrame.head of        iso_code continent     location        date  total_cases  new_cases  \\\n",
              "0           AFG      Asia  Afghanistan  2020-01-03          NaN        0.0   \n",
              "1           AFG      Asia  Afghanistan  2020-01-04          NaN        0.0   \n",
              "2           AFG      Asia  Afghanistan  2020-01-05          NaN        0.0   \n",
              "3           AFG      Asia  Afghanistan  2020-01-06          NaN        0.0   \n",
              "4           AFG      Asia  Afghanistan  2020-01-07          NaN        0.0   \n",
              "...         ...       ...          ...         ...          ...        ...   \n",
              "323699      ZWE    Africa     Zimbabwe  2023-07-01     265524.0        0.0   \n",
              "323700      ZWE    Africa     Zimbabwe  2023-07-02     265524.0        0.0   \n",
              "323701      ZWE    Africa     Zimbabwe  2023-07-03     265604.0       80.0   \n",
              "323702      ZWE    Africa     Zimbabwe  2023-07-04     265604.0        0.0   \n",
              "323703      ZWE    Africa     Zimbabwe  2023-07-05     265604.0        0.0   \n",
              "\n",
              "        new_cases_smoothed  total_deaths  new_deaths  new_deaths_smoothed  \\\n",
              "0                      NaN           NaN         0.0                  NaN   \n",
              "1                      NaN           NaN         0.0                  NaN   \n",
              "2                      NaN           NaN         0.0                  NaN   \n",
              "3                      NaN           NaN         0.0                  NaN   \n",
              "4                      NaN           NaN         0.0                  NaN   \n",
              "...                    ...           ...         ...                  ...   \n",
              "323699              15.857        5707.0         0.0                0.000   \n",
              "323700              15.857        5707.0         0.0                0.000   \n",
              "323701              11.429        5709.0         2.0                0.286   \n",
              "323702              11.429        5709.0         0.0                0.286   \n",
              "323703              11.429        5709.0         0.0                0.286   \n",
              "\n",
              "        total_cases_per_million  new_cases_per_million  \\\n",
              "0                           NaN                  0.000   \n",
              "1                           NaN                  0.000   \n",
              "2                           NaN                  0.000   \n",
              "3                           NaN                  0.000   \n",
              "4                           NaN                  0.000   \n",
              "...                         ...                    ...   \n",
              "323699                16269.316                  0.000   \n",
              "323700                16269.316                  0.000   \n",
              "323701                16274.217                  4.902   \n",
              "323702                16274.217                  0.000   \n",
              "323703                16274.217                  0.000   \n",
              "\n",
              "        new_cases_smoothed_per_million  total_deaths_per_million  \\\n",
              "0                                  NaN                       NaN   \n",
              "1                                  NaN                       NaN   \n",
              "2                                  NaN                       NaN   \n",
              "3                                  NaN                       NaN   \n",
              "4                                  NaN                       NaN   \n",
              "...                                ...                       ...   \n",
              "323699                           0.972                   349.682   \n",
              "323700                           0.972                   349.682   \n",
              "323701                           0.700                   349.805   \n",
              "323702                           0.700                   349.805   \n",
              "323703                           0.700                   349.805   \n",
              "\n",
              "        new_deaths_per_million  new_deaths_smoothed_per_million  \\\n",
              "0                        0.000                              NaN   \n",
              "1                        0.000                              NaN   \n",
              "2                        0.000                              NaN   \n",
              "3                        0.000                              NaN   \n",
              "4                        0.000                              NaN   \n",
              "...                        ...                              ...   \n",
              "323699                   0.000                            0.000   \n",
              "323700                   0.000                            0.000   \n",
              "323701                   0.123                            0.018   \n",
              "323702                   0.000                            0.018   \n",
              "323703                   0.000                            0.018   \n",
              "\n",
              "        reproduction_rate  icu_patients  icu_patients_per_million  \\\n",
              "0                     NaN           NaN                       NaN   \n",
              "1                     NaN           NaN                       NaN   \n",
              "2                     NaN           NaN                       NaN   \n",
              "3                     NaN           NaN                       NaN   \n",
              "4                     NaN           NaN                       NaN   \n",
              "...                   ...           ...                       ...   \n",
              "323699                NaN           NaN                       NaN   \n",
              "323700                NaN           NaN                       NaN   \n",
              "323701                NaN           NaN                       NaN   \n",
              "323702                NaN           NaN                       NaN   \n",
              "323703                NaN           NaN                       NaN   \n",
              "\n",
              "        hosp_patients  hosp_patients_per_million  weekly_icu_admissions  \\\n",
              "0                 NaN                        NaN                    NaN   \n",
              "1                 NaN                        NaN                    NaN   \n",
              "2                 NaN                        NaN                    NaN   \n",
              "3                 NaN                        NaN                    NaN   \n",
              "4                 NaN                        NaN                    NaN   \n",
              "...               ...                        ...                    ...   \n",
              "323699            NaN                        NaN                    NaN   \n",
              "323700            NaN                        NaN                    NaN   \n",
              "323701            NaN                        NaN                    NaN   \n",
              "323702            NaN                        NaN                    NaN   \n",
              "323703            NaN                        NaN                    NaN   \n",
              "\n",
              "        weekly_icu_admissions_per_million  weekly_hosp_admissions  \\\n",
              "0                                     NaN                     NaN   \n",
              "1                                     NaN                     NaN   \n",
              "2                                     NaN                     NaN   \n",
              "3                                     NaN                     NaN   \n",
              "4                                     NaN                     NaN   \n",
              "...                                   ...                     ...   \n",
              "323699                                NaN                     NaN   \n",
              "323700                                NaN                     NaN   \n",
              "323701                                NaN                     NaN   \n",
              "323702                                NaN                     NaN   \n",
              "323703                                NaN                     NaN   \n",
              "\n",
              "        weekly_hosp_admissions_per_million  total_tests  new_tests  \\\n",
              "0                                      NaN          NaN        NaN   \n",
              "1                                      NaN          NaN        NaN   \n",
              "2                                      NaN          NaN        NaN   \n",
              "3                                      NaN          NaN        NaN   \n",
              "4                                      NaN          NaN        NaN   \n",
              "...                                    ...          ...        ...   \n",
              "323699                                 NaN          NaN        NaN   \n",
              "323700                                 NaN          NaN        NaN   \n",
              "323701                                 NaN          NaN        NaN   \n",
              "323702                                 NaN          NaN        NaN   \n",
              "323703                                 NaN          NaN        NaN   \n",
              "\n",
              "        total_tests_per_thousand  new_tests_per_thousand  new_tests_smoothed  \\\n",
              "0                            NaN                     NaN                 NaN   \n",
              "1                            NaN                     NaN                 NaN   \n",
              "2                            NaN                     NaN                 NaN   \n",
              "3                            NaN                     NaN                 NaN   \n",
              "4                            NaN                     NaN                 NaN   \n",
              "...                          ...                     ...                 ...   \n",
              "323699                       NaN                     NaN                 NaN   \n",
              "323700                       NaN                     NaN                 NaN   \n",
              "323701                       NaN                     NaN                 NaN   \n",
              "323702                       NaN                     NaN                 NaN   \n",
              "323703                       NaN                     NaN                 NaN   \n",
              "\n",
              "        new_tests_smoothed_per_thousand  positive_rate  tests_per_case  \\\n",
              "0                                   NaN            NaN             NaN   \n",
              "1                                   NaN            NaN             NaN   \n",
              "2                                   NaN            NaN             NaN   \n",
              "3                                   NaN            NaN             NaN   \n",
              "4                                   NaN            NaN             NaN   \n",
              "...                                 ...            ...             ...   \n",
              "323699                              NaN            NaN             NaN   \n",
              "323700                              NaN            NaN             NaN   \n",
              "323701                              NaN            NaN             NaN   \n",
              "323702                              NaN            NaN             NaN   \n",
              "323703                              NaN            NaN             NaN   \n",
              "\n",
              "       tests_units  total_vaccinations  people_vaccinated  \\\n",
              "0              NaN                 NaN                NaN   \n",
              "1              NaN                 NaN                NaN   \n",
              "2              NaN                 NaN                NaN   \n",
              "3              NaN                 NaN                NaN   \n",
              "4              NaN                 NaN                NaN   \n",
              "...            ...                 ...                ...   \n",
              "323699         NaN                 NaN                NaN   \n",
              "323700         NaN                 NaN                NaN   \n",
              "323701         NaN                 NaN                NaN   \n",
              "323702         NaN                 NaN                NaN   \n",
              "323703         NaN                 NaN                NaN   \n",
              "\n",
              "        people_fully_vaccinated  total_boosters  new_vaccinations  \\\n",
              "0                           NaN             NaN               NaN   \n",
              "1                           NaN             NaN               NaN   \n",
              "2                           NaN             NaN               NaN   \n",
              "3                           NaN             NaN               NaN   \n",
              "4                           NaN             NaN               NaN   \n",
              "...                         ...             ...               ...   \n",
              "323699                      NaN             NaN               NaN   \n",
              "323700                      NaN             NaN               NaN   \n",
              "323701                      NaN             NaN               NaN   \n",
              "323702                      NaN             NaN               NaN   \n",
              "323703                      NaN             NaN               NaN   \n",
              "\n",
              "        new_vaccinations_smoothed  total_vaccinations_per_hundred  \\\n",
              "0                             NaN                             NaN   \n",
              "1                             NaN                             NaN   \n",
              "2                             NaN                             NaN   \n",
              "3                             NaN                             NaN   \n",
              "4                             NaN                             NaN   \n",
              "...                           ...                             ...   \n",
              "323699                        NaN                             NaN   \n",
              "323700                        NaN                             NaN   \n",
              "323701                        NaN                             NaN   \n",
              "323702                        NaN                             NaN   \n",
              "323703                        NaN                             NaN   \n",
              "\n",
              "        people_vaccinated_per_hundred  people_fully_vaccinated_per_hundred  \\\n",
              "0                                 NaN                                  NaN   \n",
              "1                                 NaN                                  NaN   \n",
              "2                                 NaN                                  NaN   \n",
              "3                                 NaN                                  NaN   \n",
              "4                                 NaN                                  NaN   \n",
              "...                               ...                                  ...   \n",
              "323699                            NaN                                  NaN   \n",
              "323700                            NaN                                  NaN   \n",
              "323701                            NaN                                  NaN   \n",
              "323702                            NaN                                  NaN   \n",
              "323703                            NaN                                  NaN   \n",
              "\n",
              "        total_boosters_per_hundred  new_vaccinations_smoothed_per_million  \\\n",
              "0                              NaN                                    NaN   \n",
              "1                              NaN                                    NaN   \n",
              "2                              NaN                                    NaN   \n",
              "3                              NaN                                    NaN   \n",
              "4                              NaN                                    NaN   \n",
              "...                            ...                                    ...   \n",
              "323699                         NaN                                    NaN   \n",
              "323700                         NaN                                    NaN   \n",
              "323701                         NaN                                    NaN   \n",
              "323702                         NaN                                    NaN   \n",
              "323703                         NaN                                    NaN   \n",
              "\n",
              "        new_people_vaccinated_smoothed  \\\n",
              "0                                  NaN   \n",
              "1                                  NaN   \n",
              "2                                  NaN   \n",
              "3                                  NaN   \n",
              "4                                  NaN   \n",
              "...                                ...   \n",
              "323699                             NaN   \n",
              "323700                             NaN   \n",
              "323701                             NaN   \n",
              "323702                             NaN   \n",
              "323703                             NaN   \n",
              "\n",
              "        new_people_vaccinated_smoothed_per_hundred  stringency_index  \\\n",
              "0                                              NaN               0.0   \n",
              "1                                              NaN               0.0   \n",
              "2                                              NaN               0.0   \n",
              "3                                              NaN               0.0   \n",
              "4                                              NaN               0.0   \n",
              "...                                            ...               ...   \n",
              "323699                                         NaN               NaN   \n",
              "323700                                         NaN               NaN   \n",
              "323701                                         NaN               NaN   \n",
              "323702                                         NaN               NaN   \n",
              "323703                                         NaN               NaN   \n",
              "\n",
              "        population_density  median_age  aged_65_older  aged_70_older  \\\n",
              "0                   54.422        18.6          2.581          1.337   \n",
              "1                   54.422        18.6          2.581          1.337   \n",
              "2                   54.422        18.6          2.581          1.337   \n",
              "3                   54.422        18.6          2.581          1.337   \n",
              "4                   54.422        18.6          2.581          1.337   \n",
              "...                    ...         ...            ...            ...   \n",
              "323699              42.729        19.6          2.822          1.882   \n",
              "323700              42.729        19.6          2.822          1.882   \n",
              "323701              42.729        19.6          2.822          1.882   \n",
              "323702              42.729        19.6          2.822          1.882   \n",
              "323703              42.729        19.6          2.822          1.882   \n",
              "\n",
              "        gdp_per_capita  extreme_poverty  cardiovasc_death_rate  \\\n",
              "0             1803.987              NaN                597.029   \n",
              "1             1803.987              NaN                597.029   \n",
              "2             1803.987              NaN                597.029   \n",
              "3             1803.987              NaN                597.029   \n",
              "4             1803.987              NaN                597.029   \n",
              "...                ...              ...                    ...   \n",
              "323699        1899.775             21.4                307.846   \n",
              "323700        1899.775             21.4                307.846   \n",
              "323701        1899.775             21.4                307.846   \n",
              "323702        1899.775             21.4                307.846   \n",
              "323703        1899.775             21.4                307.846   \n",
              "\n",
              "        diabetes_prevalence  female_smokers  male_smokers  \\\n",
              "0                      9.59             NaN           NaN   \n",
              "1                      9.59             NaN           NaN   \n",
              "2                      9.59             NaN           NaN   \n",
              "3                      9.59             NaN           NaN   \n",
              "4                      9.59             NaN           NaN   \n",
              "...                     ...             ...           ...   \n",
              "323699                 1.82             1.6          30.7   \n",
              "323700                 1.82             1.6          30.7   \n",
              "323701                 1.82             1.6          30.7   \n",
              "323702                 1.82             1.6          30.7   \n",
              "323703                 1.82             1.6          30.7   \n",
              "\n",
              "        handwashing_facilities  hospital_beds_per_thousand  life_expectancy  \\\n",
              "0                       37.746                         0.5            64.83   \n",
              "1                       37.746                         0.5            64.83   \n",
              "2                       37.746                         0.5            64.83   \n",
              "3                       37.746                         0.5            64.83   \n",
              "4                       37.746                         0.5            64.83   \n",
              "...                        ...                         ...              ...   \n",
              "323699                  36.791                         1.7            61.49   \n",
              "323700                  36.791                         1.7            61.49   \n",
              "323701                  36.791                         1.7            61.49   \n",
              "323702                  36.791                         1.7            61.49   \n",
              "323703                  36.791                         1.7            61.49   \n",
              "\n",
              "        human_development_index  population  \\\n",
              "0                         0.511  41128772.0   \n",
              "1                         0.511  41128772.0   \n",
              "2                         0.511  41128772.0   \n",
              "3                         0.511  41128772.0   \n",
              "4                         0.511  41128772.0   \n",
              "...                         ...         ...   \n",
              "323699                    0.571  16320539.0   \n",
              "323700                    0.571  16320539.0   \n",
              "323701                    0.571  16320539.0   \n",
              "323702                    0.571  16320539.0   \n",
              "323703                    0.571  16320539.0   \n",
              "\n",
              "        excess_mortality_cumulative_absolute  excess_mortality_cumulative  \\\n",
              "0                                        NaN                          NaN   \n",
              "1                                        NaN                          NaN   \n",
              "2                                        NaN                          NaN   \n",
              "3                                        NaN                          NaN   \n",
              "4                                        NaN                          NaN   \n",
              "...                                      ...                          ...   \n",
              "323699                                   NaN                          NaN   \n",
              "323700                                   NaN                          NaN   \n",
              "323701                                   NaN                          NaN   \n",
              "323702                                   NaN                          NaN   \n",
              "323703                                   NaN                          NaN   \n",
              "\n",
              "        excess_mortality  excess_mortality_cumulative_per_million  \n",
              "0                    NaN                                      NaN  \n",
              "1                    NaN                                      NaN  \n",
              "2                    NaN                                      NaN  \n",
              "3                    NaN                                      NaN  \n",
              "4                    NaN                                      NaN  \n",
              "...                  ...                                      ...  \n",
              "323699               NaN                                      NaN  \n",
              "323700               NaN                                      NaN  \n",
              "323701               NaN                                      NaN  \n",
              "323702               NaN                                      NaN  \n",
              "323703               NaN                                      NaN  \n",
              "\n",
              "[323704 rows x 67 columns]>"
            ]
          },
          "metadata": {},
          "execution_count": 14
        }
      ]
    },
    {
      "cell_type": "code",
      "source": [
        "#Checking data types\n",
        "df2.dtypes"
      ],
      "metadata": {
        "colab": {
          "base_uri": "https://localhost:8080/"
        },
        "id": "5zgQzqbPFkz0",
        "outputId": "6e73212a-55ad-4abd-c395-786746cf57ec"
      },
      "execution_count": 15,
      "outputs": [
        {
          "output_type": "execute_result",
          "data": {
            "text/plain": [
              "iso_code                                    object\n",
              "continent                                   object\n",
              "location                                    object\n",
              "date                                        object\n",
              "total_cases                                float64\n",
              "                                            ...   \n",
              "population                                 float64\n",
              "excess_mortality_cumulative_absolute       float64\n",
              "excess_mortality_cumulative                float64\n",
              "excess_mortality                           float64\n",
              "excess_mortality_cumulative_per_million    float64\n",
              "Length: 67, dtype: object"
            ]
          },
          "metadata": {},
          "execution_count": 15
        }
      ]
    },
    {
      "cell_type": "code",
      "source": [
        "final_df.dtypes"
      ],
      "metadata": {
        "colab": {
          "base_uri": "https://localhost:8080/"
        },
        "id": "ue-fqpzm_OuJ",
        "outputId": "c57df2bd-f0f8-49d0-8528-e6e0da9b0eb4"
      },
      "execution_count": 16,
      "outputs": [
        {
          "output_type": "execute_result",
          "data": {
            "text/plain": [
              "Date                  object\n",
              "Passenger Numbers    float64\n",
              "dtype: object"
            ]
          },
          "metadata": {},
          "execution_count": 16
        }
      ]
    },
    {
      "cell_type": "code",
      "source": [
        "#convert Date from object to Datetime\n",
        "final_df['Date']= pd.to_datetime(final_df['Date'])"
      ],
      "metadata": {
        "id": "QfeXiSXpAxMY"
      },
      "execution_count": 17,
      "outputs": []
    },
    {
      "cell_type": "code",
      "source": [
        "#Checking data types\n",
        "df2.dtypes"
      ],
      "metadata": {
        "colab": {
          "base_uri": "https://localhost:8080/"
        },
        "id": "L1eKquRNKERE",
        "outputId": "7f2f4a2d-7c26-43e3-9cfc-525f99cfcecc"
      },
      "execution_count": 18,
      "outputs": [
        {
          "output_type": "execute_result",
          "data": {
            "text/plain": [
              "iso_code                                    object\n",
              "continent                                   object\n",
              "location                                    object\n",
              "date                                        object\n",
              "total_cases                                float64\n",
              "                                            ...   \n",
              "population                                 float64\n",
              "excess_mortality_cumulative_absolute       float64\n",
              "excess_mortality_cumulative                float64\n",
              "excess_mortality                           float64\n",
              "excess_mortality_cumulative_per_million    float64\n",
              "Length: 67, dtype: object"
            ]
          },
          "metadata": {},
          "execution_count": 18
        }
      ]
    },
    {
      "cell_type": "code",
      "source": [
        "#convert Date from object to Datetime\n",
        "df2['date']= pd.to_datetime(df2['date'])"
      ],
      "metadata": {
        "id": "uC80ukNFBdoX"
      },
      "execution_count": 19,
      "outputs": []
    },
    {
      "cell_type": "code",
      "source": [
        "columns_to_keep = ['date', 'iso_code', 'total_cases_per_million',\n",
        "                   'new_cases_per_million', 'new_cases_smoothed_per_million', 'total_deaths_per_million',\n",
        "                   'new_deaths_per_million', 'new_deaths_smoothed_per_million',\n",
        "                   'icu_patients_per_million', 'hosp_patients_per_million',\n",
        "                   'weekly_icu_admissions_per_million', 'weekly_hosp_admissions_per_million',\n",
        "                   'total_tests_per_thousand', 'new_tests_per_thousand',\n",
        "                   'new_tests_smoothed_per_thousand', 'positive_rate', 'tests_per_case',\n",
        "                   'total_vaccinations', 'people_vaccinated', 'people_fully_vaccinated', 'total_boosters',\n",
        "                   'new_vaccinations', 'new_vaccinations_smoothed', 'total_vaccinations_per_hundred',\n",
        "                   'people_vaccinated_per_hundred', 'people_fully_vaccinated_per_hundred', 'total_boosters_per_hundred',\n",
        "                   'new_vaccinations_smoothed_per_million',\n",
        "                   'new_people_vaccinated_smoothed_per_hundred', 'stringency_index']\n",
        "\n",
        "df2 = df2.loc[:, columns_to_keep]"
      ],
      "metadata": {
        "id": "40fjYZCBH2SQ"
      },
      "execution_count": 20,
      "outputs": []
    },
    {
      "cell_type": "code",
      "source": [
        "#Checking data types\n",
        "df2.dtypes"
      ],
      "metadata": {
        "colab": {
          "base_uri": "https://localhost:8080/"
        },
        "id": "RWtC6tVCEpx-",
        "outputId": "e6b501ee-fd05-4b32-a7e5-39b246a50971"
      },
      "execution_count": 21,
      "outputs": [
        {
          "output_type": "execute_result",
          "data": {
            "text/plain": [
              "date                                          datetime64[ns]\n",
              "iso_code                                              object\n",
              "total_cases_per_million                              float64\n",
              "new_cases_per_million                                float64\n",
              "new_cases_smoothed_per_million                       float64\n",
              "total_deaths_per_million                             float64\n",
              "new_deaths_per_million                               float64\n",
              "new_deaths_smoothed_per_million                      float64\n",
              "icu_patients_per_million                             float64\n",
              "hosp_patients_per_million                            float64\n",
              "weekly_icu_admissions_per_million                    float64\n",
              "weekly_hosp_admissions_per_million                   float64\n",
              "total_tests_per_thousand                             float64\n",
              "new_tests_per_thousand                               float64\n",
              "new_tests_smoothed_per_thousand                      float64\n",
              "positive_rate                                        float64\n",
              "tests_per_case                                       float64\n",
              "total_vaccinations                                   float64\n",
              "people_vaccinated                                    float64\n",
              "people_fully_vaccinated                              float64\n",
              "total_boosters                                       float64\n",
              "new_vaccinations                                     float64\n",
              "new_vaccinations_smoothed                            float64\n",
              "total_vaccinations_per_hundred                       float64\n",
              "people_vaccinated_per_hundred                        float64\n",
              "people_fully_vaccinated_per_hundred                  float64\n",
              "total_boosters_per_hundred                           float64\n",
              "new_vaccinations_smoothed_per_million                float64\n",
              "new_people_vaccinated_smoothed_per_hundred           float64\n",
              "stringency_index                                     float64\n",
              "dtype: object"
            ]
          },
          "metadata": {},
          "execution_count": 21
        }
      ]
    },
    {
      "cell_type": "code",
      "source": [
        "#Join tables on date\n",
        "merged_df = final_df.merge(df2[df2['iso_code'] == 'USA'], how='left', left_on='Date', right_on='date')"
      ],
      "metadata": {
        "id": "5xs4jX37FaDM"
      },
      "execution_count": 22,
      "outputs": []
    },
    {
      "cell_type": "code",
      "source": [
        "merged_df.head"
      ],
      "metadata": {
        "colab": {
          "base_uri": "https://localhost:8080/"
        },
        "id": "t7dlwlfWFyo2",
        "outputId": "bcc395cb-08f9-4574-9134-5887bf4f1ca0"
      },
      "execution_count": 23,
      "outputs": [
        {
          "output_type": "execute_result",
          "data": {
            "text/plain": [
              "<bound method NDFrame.head of            Date  Passenger Numbers       date iso_code  \\\n",
              "0    2023-07-06          2529182.0        NaT      NaN   \n",
              "1    2023-07-05          2481122.0 2023-07-05      USA   \n",
              "2    2023-07-04          2007445.0 2023-07-04      USA   \n",
              "3    2023-07-03          2288649.0 2023-07-03      USA   \n",
              "4    2023-07-02          2529730.0 2023-07-02      USA   \n",
              "...         ...                ...        ...      ...   \n",
              "1638 2019-07-12          2447177.0        NaT      NaN   \n",
              "1639 2019-07-11          2615115.0        NaT      NaN   \n",
              "1640 2019-07-10          2669717.0        NaT      NaN   \n",
              "1641 2019-07-09          2312178.0        NaT      NaN   \n",
              "1642 2019-07-08          2716812.0        NaT      NaN   \n",
              "\n",
              "      total_cases_per_million  new_cases_per_million  \\\n",
              "0                         NaN                    NaN   \n",
              "1                   305763.91                    0.0   \n",
              "2                   305763.91                    0.0   \n",
              "3                   305763.91                    0.0   \n",
              "4                   305763.91                    0.0   \n",
              "...                       ...                    ...   \n",
              "1638                      NaN                    NaN   \n",
              "1639                      NaN                    NaN   \n",
              "1640                      NaN                    NaN   \n",
              "1641                      NaN                    NaN   \n",
              "1642                      NaN                    NaN   \n",
              "\n",
              "      new_cases_smoothed_per_million  total_deaths_per_million  \\\n",
              "0                                NaN                       NaN   \n",
              "1                                0.0                  3331.912   \n",
              "2                                0.0                  3331.912   \n",
              "3                                0.0                  3331.912   \n",
              "4                                0.0                  3331.912   \n",
              "...                              ...                       ...   \n",
              "1638                             NaN                       NaN   \n",
              "1639                             NaN                       NaN   \n",
              "1640                             NaN                       NaN   \n",
              "1641                             NaN                       NaN   \n",
              "1642                             NaN                       NaN   \n",
              "\n",
              "      new_deaths_per_million  new_deaths_smoothed_per_million  \\\n",
              "0                        NaN                              NaN   \n",
              "1                        0.0                              0.0   \n",
              "2                        0.0                              0.0   \n",
              "3                        0.0                              0.0   \n",
              "4                        0.0                              0.0   \n",
              "...                      ...                              ...   \n",
              "1638                     NaN                              NaN   \n",
              "1639                     NaN                              NaN   \n",
              "1640                     NaN                              NaN   \n",
              "1641                     NaN                              NaN   \n",
              "1642                     NaN                              NaN   \n",
              "\n",
              "      icu_patients_per_million  hosp_patients_per_million  \\\n",
              "0                          NaN                        NaN   \n",
              "1                          NaN                        NaN   \n",
              "2                          NaN                        NaN   \n",
              "3                          NaN                        NaN   \n",
              "4                          NaN                        NaN   \n",
              "...                        ...                        ...   \n",
              "1638                       NaN                        NaN   \n",
              "1639                       NaN                        NaN   \n",
              "1640                       NaN                        NaN   \n",
              "1641                       NaN                        NaN   \n",
              "1642                       NaN                        NaN   \n",
              "\n",
              "      weekly_icu_admissions_per_million  weekly_hosp_admissions_per_million  \\\n",
              "0                                   NaN                                 NaN   \n",
              "1                                   NaN                                 NaN   \n",
              "2                                   NaN                                 NaN   \n",
              "3                                   NaN                                 NaN   \n",
              "4                                   NaN                                 NaN   \n",
              "...                                 ...                                 ...   \n",
              "1638                                NaN                                 NaN   \n",
              "1639                                NaN                                 NaN   \n",
              "1640                                NaN                                 NaN   \n",
              "1641                                NaN                                 NaN   \n",
              "1642                                NaN                                 NaN   \n",
              "\n",
              "      total_tests_per_thousand  new_tests_per_thousand  \\\n",
              "0                          NaN                     NaN   \n",
              "1                          NaN                     NaN   \n",
              "2                          NaN                     NaN   \n",
              "3                          NaN                     NaN   \n",
              "4                          NaN                     NaN   \n",
              "...                        ...                     ...   \n",
              "1638                       NaN                     NaN   \n",
              "1639                       NaN                     NaN   \n",
              "1640                       NaN                     NaN   \n",
              "1641                       NaN                     NaN   \n",
              "1642                       NaN                     NaN   \n",
              "\n",
              "      new_tests_smoothed_per_thousand  positive_rate  tests_per_case  \\\n",
              "0                                 NaN            NaN             NaN   \n",
              "1                                 NaN            NaN             NaN   \n",
              "2                                 NaN            NaN             NaN   \n",
              "3                                 NaN            NaN             NaN   \n",
              "4                                 NaN            NaN             NaN   \n",
              "...                               ...            ...             ...   \n",
              "1638                              NaN            NaN             NaN   \n",
              "1639                              NaN            NaN             NaN   \n",
              "1640                              NaN            NaN             NaN   \n",
              "1641                              NaN            NaN             NaN   \n",
              "1642                              NaN            NaN             NaN   \n",
              "\n",
              "      total_vaccinations  people_vaccinated  people_fully_vaccinated  \\\n",
              "0                    NaN                NaN                      NaN   \n",
              "1                    NaN                NaN                      NaN   \n",
              "2                    NaN                NaN                      NaN   \n",
              "3                    NaN                NaN                      NaN   \n",
              "4                    NaN                NaN                      NaN   \n",
              "...                  ...                ...                      ...   \n",
              "1638                 NaN                NaN                      NaN   \n",
              "1639                 NaN                NaN                      NaN   \n",
              "1640                 NaN                NaN                      NaN   \n",
              "1641                 NaN                NaN                      NaN   \n",
              "1642                 NaN                NaN                      NaN   \n",
              "\n",
              "      total_boosters  new_vaccinations  new_vaccinations_smoothed  \\\n",
              "0                NaN               NaN                        NaN   \n",
              "1                NaN               NaN                        NaN   \n",
              "2                NaN               NaN                        NaN   \n",
              "3                NaN               NaN                        NaN   \n",
              "4                NaN               NaN                        NaN   \n",
              "...              ...               ...                        ...   \n",
              "1638             NaN               NaN                        NaN   \n",
              "1639             NaN               NaN                        NaN   \n",
              "1640             NaN               NaN                        NaN   \n",
              "1641             NaN               NaN                        NaN   \n",
              "1642             NaN               NaN                        NaN   \n",
              "\n",
              "      total_vaccinations_per_hundred  people_vaccinated_per_hundred  \\\n",
              "0                                NaN                            NaN   \n",
              "1                                NaN                            NaN   \n",
              "2                                NaN                            NaN   \n",
              "3                                NaN                            NaN   \n",
              "4                                NaN                            NaN   \n",
              "...                              ...                            ...   \n",
              "1638                             NaN                            NaN   \n",
              "1639                             NaN                            NaN   \n",
              "1640                             NaN                            NaN   \n",
              "1641                             NaN                            NaN   \n",
              "1642                             NaN                            NaN   \n",
              "\n",
              "      people_fully_vaccinated_per_hundred  total_boosters_per_hundred  \\\n",
              "0                                     NaN                         NaN   \n",
              "1                                     NaN                         NaN   \n",
              "2                                     NaN                         NaN   \n",
              "3                                     NaN                         NaN   \n",
              "4                                     NaN                         NaN   \n",
              "...                                   ...                         ...   \n",
              "1638                                  NaN                         NaN   \n",
              "1639                                  NaN                         NaN   \n",
              "1640                                  NaN                         NaN   \n",
              "1641                                  NaN                         NaN   \n",
              "1642                                  NaN                         NaN   \n",
              "\n",
              "      new_vaccinations_smoothed_per_million  \\\n",
              "0                                       NaN   \n",
              "1                                       NaN   \n",
              "2                                       NaN   \n",
              "3                                       NaN   \n",
              "4                                       NaN   \n",
              "...                                     ...   \n",
              "1638                                    NaN   \n",
              "1639                                    NaN   \n",
              "1640                                    NaN   \n",
              "1641                                    NaN   \n",
              "1642                                    NaN   \n",
              "\n",
              "      new_people_vaccinated_smoothed_per_hundred  stringency_index  \n",
              "0                                            NaN               NaN  \n",
              "1                                            NaN               NaN  \n",
              "2                                            NaN               NaN  \n",
              "3                                            NaN               NaN  \n",
              "4                                            NaN               NaN  \n",
              "...                                          ...               ...  \n",
              "1638                                         NaN               NaN  \n",
              "1639                                         NaN               NaN  \n",
              "1640                                         NaN               NaN  \n",
              "1641                                         NaN               NaN  \n",
              "1642                                         NaN               NaN  \n",
              "\n",
              "[1643 rows x 32 columns]>"
            ]
          },
          "metadata": {},
          "execution_count": 23
        }
      ]
    },
    {
      "cell_type": "code",
      "source": [
        "merged_df.columns"
      ],
      "metadata": {
        "id": "fonqeVZDLOJD",
        "colab": {
          "base_uri": "https://localhost:8080/"
        },
        "outputId": "e39e9277-f03e-4f1f-9315-b3948f118624"
      },
      "execution_count": 24,
      "outputs": [
        {
          "output_type": "execute_result",
          "data": {
            "text/plain": [
              "Index(['Date', 'Passenger Numbers', 'date', 'iso_code',\n",
              "       'total_cases_per_million', 'new_cases_per_million',\n",
              "       'new_cases_smoothed_per_million', 'total_deaths_per_million',\n",
              "       'new_deaths_per_million', 'new_deaths_smoothed_per_million',\n",
              "       'icu_patients_per_million', 'hosp_patients_per_million',\n",
              "       'weekly_icu_admissions_per_million',\n",
              "       'weekly_hosp_admissions_per_million', 'total_tests_per_thousand',\n",
              "       'new_tests_per_thousand', 'new_tests_smoothed_per_thousand',\n",
              "       'positive_rate', 'tests_per_case', 'total_vaccinations',\n",
              "       'people_vaccinated', 'people_fully_vaccinated', 'total_boosters',\n",
              "       'new_vaccinations', 'new_vaccinations_smoothed',\n",
              "       'total_vaccinations_per_hundred', 'people_vaccinated_per_hundred',\n",
              "       'people_fully_vaccinated_per_hundred', 'total_boosters_per_hundred',\n",
              "       'new_vaccinations_smoothed_per_million',\n",
              "       'new_people_vaccinated_smoothed_per_hundred', 'stringency_index'],\n",
              "      dtype='object')"
            ]
          },
          "metadata": {},
          "execution_count": 24
        }
      ]
    },
    {
      "cell_type": "code",
      "source": [
        "merged_df = merged_df.drop(['date','iso_code'] ,axis=1)"
      ],
      "metadata": {
        "id": "xPnGQ8iuKerX"
      },
      "execution_count": 25,
      "outputs": []
    },
    {
      "cell_type": "markdown",
      "source": [
        "Addressing Missing Values"
      ],
      "metadata": {
        "id": "DA0a8B7F-5l0"
      }
    },
    {
      "cell_type": "code",
      "source": [
        "# Create a new DataFrame with missing values replaced using mean imputation\n",
        "imputed_df = merged_df.copy()\n",
        "\n",
        "#Iterate over each numeric column\n",
        "for column in merged_df.select_dtypes(include='number'):\n",
        "    # Calculate the mean of non-missing values in the current column\n",
        "    mean_value = merged_df[column].mean()\n",
        "\n",
        "    # Replace the missing values with the mean value\n",
        "    merged_df[column].fillna(mean_value, inplace=True)"
      ],
      "metadata": {
        "id": "-YCheEUR-Xov"
      },
      "execution_count": 26,
      "outputs": []
    },
    {
      "cell_type": "markdown",
      "source": [
        "Creating a variable for US holidays"
      ],
      "metadata": {
        "id": "AVTHnCA6JWNY"
      }
    },
    {
      "cell_type": "code",
      "source": [
        "# Create a holiday object for the United States\n",
        "holiday_obj = holidays.CountryHoliday('US')\n",
        "\n",
        "# Create a new column 'holiday' and assign 1 if the date matches a US holiday, 0 otherwise\n",
        "merged_df['holiday'] = merged_df['Date'].apply(lambda x: 1 if x in holiday_obj else 0)\n"
      ],
      "metadata": {
        "id": "OPyeNuOyS_J9"
      },
      "execution_count": 27,
      "outputs": []
    },
    {
      "cell_type": "code",
      "source": [
        "merged_df.dtypes"
      ],
      "metadata": {
        "colab": {
          "base_uri": "https://localhost:8080/"
        },
        "id": "7NLfYU3TK3MY",
        "outputId": "4e72561c-414d-4c09-f9bf-01355b4dbf2f"
      },
      "execution_count": 28,
      "outputs": [
        {
          "output_type": "execute_result",
          "data": {
            "text/plain": [
              "Date                                          datetime64[ns]\n",
              "Passenger Numbers                                    float64\n",
              "total_cases_per_million                              float64\n",
              "new_cases_per_million                                float64\n",
              "new_cases_smoothed_per_million                       float64\n",
              "total_deaths_per_million                             float64\n",
              "new_deaths_per_million                               float64\n",
              "new_deaths_smoothed_per_million                      float64\n",
              "icu_patients_per_million                             float64\n",
              "hosp_patients_per_million                            float64\n",
              "weekly_icu_admissions_per_million                    float64\n",
              "weekly_hosp_admissions_per_million                   float64\n",
              "total_tests_per_thousand                             float64\n",
              "new_tests_per_thousand                               float64\n",
              "new_tests_smoothed_per_thousand                      float64\n",
              "positive_rate                                        float64\n",
              "tests_per_case                                       float64\n",
              "total_vaccinations                                   float64\n",
              "people_vaccinated                                    float64\n",
              "people_fully_vaccinated                              float64\n",
              "total_boosters                                       float64\n",
              "new_vaccinations                                     float64\n",
              "new_vaccinations_smoothed                            float64\n",
              "total_vaccinations_per_hundred                       float64\n",
              "people_vaccinated_per_hundred                        float64\n",
              "people_fully_vaccinated_per_hundred                  float64\n",
              "total_boosters_per_hundred                           float64\n",
              "new_vaccinations_smoothed_per_million                float64\n",
              "new_people_vaccinated_smoothed_per_hundred           float64\n",
              "stringency_index                                     float64\n",
              "holiday                                                int64\n",
              "dtype: object"
            ]
          },
          "metadata": {},
          "execution_count": 28
        }
      ]
    },
    {
      "cell_type": "markdown",
      "source": [
        "# Data Preprocessing"
      ],
      "metadata": {
        "id": "mXkSEoM12tVR"
      }
    },
    {
      "cell_type": "code",
      "source": [
        "# Convert NaN values to 0\n",
        "#merged_df.fillna(0, inplace=True)"
      ],
      "metadata": {
        "id": "9BNULKcEX9xY"
      },
      "execution_count": 29,
      "outputs": []
    },
    {
      "cell_type": "code",
      "source": [
        "# Select the columns to standardize and demean (excluding 'Date' and 'holiday')\n",
        "columns_to_standardize_demean = [col for col in merged_df.columns if col not in ['Date', 'holiday']]\n",
        "\n",
        "# Extract the 'Date' and 'holiday' columns\n",
        "date_column = merged_df['Date']\n",
        "holiday_column = merged_df['holiday']\n",
        "\n",
        "# Standardize the selected columns\n",
        "scaler = StandardScaler()\n",
        "merged_df[columns_to_standardize_demean] = scaler.fit_transform(merged_df[columns_to_standardize_demean])\n",
        "\n",
        "# Demean the selected columns\n",
        "merged_df[columns_to_standardize_demean] = merged_df[columns_to_standardize_demean].apply(lambda x: x - x.mean())\n",
        "\n",
        "# Restore the 'Date' and 'holiday' columns\n",
        "merged_df['Date'] = date_column\n",
        "merged_df['holiday'] = holiday_column\n",
        "\n",
        "# Print the standardized and demeaned dataset\n",
        "print(merged_df.head())"
      ],
      "metadata": {
        "colab": {
          "base_uri": "https://localhost:8080/"
        },
        "id": "CXTWJuJXVxft",
        "outputId": "81c0a7e8-0307-4448-d401-987d081241c0"
      },
      "execution_count": 30,
      "outputs": [
        {
          "output_type": "stream",
          "name": "stdout",
          "text": [
            "        Date  Passenger Numbers  total_cases_per_million  \\\n",
            "0 2023-07-06           1.083828                 0.000000   \n",
            "1 2023-07-05           1.014481                 1.553805   \n",
            "2 2023-07-04           0.331008                 1.553805   \n",
            "3 2023-07-03           0.736760                 1.553805   \n",
            "4 2023-07-02           1.084618                 1.553805   \n",
            "\n",
            "   new_cases_per_million  new_cases_smoothed_per_million  \\\n",
            "0          -4.626060e-17                    5.189600e-17   \n",
            "1          -7.403685e-01                   -8.445902e-01   \n",
            "2          -7.403685e-01                   -8.445902e-01   \n",
            "3          -7.403685e-01                   -8.445902e-01   \n",
            "4          -7.403685e-01                   -8.445902e-01   \n",
            "\n",
            "   total_deaths_per_million  new_deaths_per_million  \\\n",
            "0              1.044527e-16            9.387201e-17   \n",
            "1              1.371823e+00           -1.062694e+00   \n",
            "2              1.371823e+00           -1.062694e+00   \n",
            "3              1.371823e+00           -1.062694e+00   \n",
            "4              1.371823e+00           -1.062694e+00   \n",
            "\n",
            "   new_deaths_smoothed_per_million  icu_patients_per_million  \\\n",
            "0                    -1.300533e-16             -3.459733e-17   \n",
            "1                    -1.278645e+00             -3.459733e-17   \n",
            "2                    -1.278645e+00             -3.459733e-17   \n",
            "3                    -1.278645e+00             -3.459733e-17   \n",
            "4                    -1.278645e+00             -3.459733e-17   \n",
            "\n",
            "   hosp_patients_per_million  weekly_icu_admissions_per_million  \\\n",
            "0                        0.0                                NaN   \n",
            "1                        0.0                                NaN   \n",
            "2                        0.0                                NaN   \n",
            "3                        0.0                                NaN   \n",
            "4                        0.0                                NaN   \n",
            "\n",
            "   weekly_hosp_admissions_per_million  total_tests_per_thousand  \\\n",
            "0                       -2.346319e-16              1.729867e-16   \n",
            "1                       -2.346319e-16              1.729867e-16   \n",
            "2                       -2.346319e-16              1.729867e-16   \n",
            "3                       -2.346319e-16              1.729867e-16   \n",
            "4                       -2.346319e-16              1.729867e-16   \n",
            "\n",
            "   new_tests_per_thousand  new_tests_smoothed_per_thousand  positive_rate  \\\n",
            "0            1.037920e-16                     2.767787e-16   8.649333e-18   \n",
            "1            1.037920e-16                     2.767787e-16   8.649333e-18   \n",
            "2            1.037920e-16                     2.767787e-16   8.649333e-18   \n",
            "3            1.037920e-16                     2.767787e-16   8.649333e-18   \n",
            "4            1.037920e-16                     2.767787e-16   8.649333e-18   \n",
            "\n",
            "   tests_per_case  total_vaccinations  people_vaccinated  \\\n",
            "0    5.261496e-17       -9.493215e-17       5.816260e-17   \n",
            "1    5.261496e-17       -9.493215e-17       5.816260e-17   \n",
            "2    5.261496e-17       -9.493215e-17       5.816260e-17   \n",
            "3    5.261496e-17       -9.493215e-17       5.816260e-17   \n",
            "4    5.261496e-17       -9.493215e-17       5.816260e-17   \n",
            "\n",
            "   people_fully_vaccinated  total_boosters  new_vaccinations  \\\n",
            "0            -1.059002e-16             0.0     -5.086200e-17   \n",
            "1            -1.059002e-16             0.0     -5.086200e-17   \n",
            "2            -1.059002e-16             0.0     -5.086200e-17   \n",
            "3            -1.059002e-16             0.0     -5.086200e-17   \n",
            "4            -1.059002e-16             0.0     -5.086200e-17   \n",
            "\n",
            "   new_vaccinations_smoothed  total_vaccinations_per_hundred  \\\n",
            "0               3.412265e-17                   -1.037920e-16   \n",
            "1               3.412265e-17                   -1.037920e-16   \n",
            "2               3.412265e-17                   -1.037920e-16   \n",
            "3               3.412265e-17                   -1.037920e-16   \n",
            "4               3.412265e-17                   -1.037920e-16   \n",
            "\n",
            "   people_vaccinated_per_hundred  people_fully_vaccinated_per_hundred  \\\n",
            "0                  -2.594800e-16                         1.989347e-16   \n",
            "1                  -2.594800e-16                         1.989347e-16   \n",
            "2                  -2.594800e-16                         1.989347e-16   \n",
            "3                  -2.594800e-16                         1.989347e-16   \n",
            "4                  -2.594800e-16                         1.989347e-16   \n",
            "\n",
            "   total_boosters_per_hundred  new_vaccinations_smoothed_per_million  \\\n",
            "0                3.987495e-17                          -5.949778e-17   \n",
            "1                3.987495e-17                          -5.949778e-17   \n",
            "2                3.987495e-17                          -5.949778e-17   \n",
            "3                3.987495e-17                          -5.949778e-17   \n",
            "4                3.987495e-17                          -5.949778e-17   \n",
            "\n",
            "   new_people_vaccinated_smoothed_per_hundred  stringency_index  holiday  \n",
            "0                                2.540742e-17      1.210907e-16        0  \n",
            "1                                2.540742e-17      1.210907e-16        0  \n",
            "2                                2.540742e-17      1.210907e-16        1  \n",
            "3                                2.540742e-17      1.210907e-16        0  \n",
            "4                                2.540742e-17      1.210907e-16        0  \n"
          ]
        }
      ]
    },
    {
      "cell_type": "markdown",
      "source": [
        "# Creating Additional variables"
      ],
      "metadata": {
        "id": "IEWwakn414Mi"
      }
    },
    {
      "cell_type": "code",
      "source": [
        "# Create a time trend variable : Calculate the number of weeks since the minimum date\n",
        "merged_df['WeekNumber'] = (merged_df['Date'] - merged_df['Date'].min()).dt.days // 7"
      ],
      "metadata": {
        "id": "OoVbrfmqY9nx"
      },
      "execution_count": 31,
      "outputs": []
    },
    {
      "cell_type": "code",
      "source": [
        "# Convert 'WeekNumber' column to float data type\n",
        "merged_df['WeekNumber'] = merged_df['WeekNumber'].astype(int)"
      ],
      "metadata": {
        "id": "F96Vaasldtak"
      },
      "execution_count": 32,
      "outputs": []
    },
    {
      "cell_type": "markdown",
      "source": [
        "# Feature Selection + Training-Test Split"
      ],
      "metadata": {
        "id": "BxXamsMh2-jJ"
      }
    },
    {
      "cell_type": "code",
      "source": [
        "# Separate features and target variable\n",
        "features = merged_df.drop(['Passenger Numbers', 'Date'], axis=1)\n",
        "target = merged_df['Passenger Numbers']"
      ],
      "metadata": {
        "id": "AOxU0-oefLMg"
      },
      "execution_count": 33,
      "outputs": []
    },
    {
      "cell_type": "code",
      "source": [
        "# Sort data in Chronological order\n",
        "merged_df = merged_df.sort_values('Date')\n",
        "\n",
        "# Reset the index after sorting\n",
        "merged_df = merged_df.reset_index(drop=True)"
      ],
      "metadata": {
        "id": "CiOg2gzBoTDJ"
      },
      "execution_count": 34,
      "outputs": []
    },
    {
      "cell_type": "code",
      "source": [
        "# Create TimeSeriesSplit with 5 splits\n",
        "tscv = TimeSeriesSplit(n_splits=5)\n",
        "\n",
        "# Initialize variables to store the training and test sets\n",
        "train_indices = []\n",
        "test_indices = []\n",
        "\n",
        "# Perform time-based splitting\n",
        "for train_index, test_index in tscv.split(features):\n",
        "    train_indices.append(train_index)\n",
        "    test_indices.append(test_index)\n",
        "\n",
        "# Get the last split's indices\n",
        "last_train_index = train_indices[-1]\n",
        "last_test_index = test_indices[-1]\n",
        "\n",
        "# Retrieve the final training and test sets\n",
        "X_train = features.iloc[last_train_index]\n",
        "X_test = features.iloc[last_test_index]\n",
        "y_train = target.iloc[last_train_index]\n",
        "y_test = target.iloc[last_test_index]\n",
        "\n",
        "# Print the sizes of the training and test sets\n",
        "print(\"Training set size:\", len(X_train))\n",
        "print(\"Test set size:\", len(X_test))"
      ],
      "metadata": {
        "id": "6DcL2WqmCUyc",
        "colab": {
          "base_uri": "https://localhost:8080/"
        },
        "outputId": "96edfead-32c4-4e4f-850a-442067fde5b4"
      },
      "execution_count": 35,
      "outputs": [
        {
          "output_type": "stream",
          "name": "stdout",
          "text": [
            "Training set size: 1370\n",
            "Test set size: 273\n"
          ]
        }
      ]
    },
    {
      "cell_type": "code",
      "source": [
        "X_train.columns"
      ],
      "metadata": {
        "colab": {
          "base_uri": "https://localhost:8080/"
        },
        "id": "UeLce_-XjYH7",
        "outputId": "05a3fa72-ee0f-4468-a984-841dd696d6c3"
      },
      "execution_count": 36,
      "outputs": [
        {
          "output_type": "execute_result",
          "data": {
            "text/plain": [
              "Index(['total_cases_per_million', 'new_cases_per_million',\n",
              "       'new_cases_smoothed_per_million', 'total_deaths_per_million',\n",
              "       'new_deaths_per_million', 'new_deaths_smoothed_per_million',\n",
              "       'icu_patients_per_million', 'hosp_patients_per_million',\n",
              "       'weekly_icu_admissions_per_million',\n",
              "       'weekly_hosp_admissions_per_million', 'total_tests_per_thousand',\n",
              "       'new_tests_per_thousand', 'new_tests_smoothed_per_thousand',\n",
              "       'positive_rate', 'tests_per_case', 'total_vaccinations',\n",
              "       'people_vaccinated', 'people_fully_vaccinated', 'total_boosters',\n",
              "       'new_vaccinations', 'new_vaccinations_smoothed',\n",
              "       'total_vaccinations_per_hundred', 'people_vaccinated_per_hundred',\n",
              "       'people_fully_vaccinated_per_hundred', 'total_boosters_per_hundred',\n",
              "       'new_vaccinations_smoothed_per_million',\n",
              "       'new_people_vaccinated_smoothed_per_hundred', 'stringency_index',\n",
              "       'holiday', 'WeekNumber'],\n",
              "      dtype='object')"
            ]
          },
          "metadata": {},
          "execution_count": 36
        }
      ]
    },
    {
      "cell_type": "markdown",
      "source": [
        "#Applying Predictive Models"
      ],
      "metadata": {
        "id": "QZpOUZWb3HF7"
      }
    },
    {
      "cell_type": "code",
      "source": [
        "#Model 1: XGBoost regressor\n",
        "model = XGBRegressor()\n",
        "model.fit(features, target)"
      ],
      "metadata": {
        "id": "P9AZkPMHsuMO",
        "colab": {
          "base_uri": "https://localhost:8080/",
          "height": 248
        },
        "outputId": "83404853-51b1-41e4-97b0-54f194b0cf81"
      },
      "execution_count": 37,
      "outputs": [
        {
          "output_type": "execute_result",
          "data": {
            "text/plain": [
              "XGBRegressor(base_score=None, booster=None, callbacks=None,\n",
              "             colsample_bylevel=None, colsample_bynode=None,\n",
              "             colsample_bytree=None, early_stopping_rounds=None,\n",
              "             enable_categorical=False, eval_metric=None, feature_types=None,\n",
              "             gamma=None, gpu_id=None, grow_policy=None, importance_type=None,\n",
              "             interaction_constraints=None, learning_rate=None, max_bin=None,\n",
              "             max_cat_threshold=None, max_cat_to_onehot=None,\n",
              "             max_delta_step=None, max_depth=None, max_leaves=None,\n",
              "             min_child_weight=None, missing=nan, monotone_constraints=None,\n",
              "             n_estimators=100, n_jobs=None, num_parallel_tree=None,\n",
              "             predictor=None, random_state=None, ...)"
            ],
            "text/html": [
              "<style>#sk-container-id-1 {color: black;background-color: white;}#sk-container-id-1 pre{padding: 0;}#sk-container-id-1 div.sk-toggleable {background-color: white;}#sk-container-id-1 label.sk-toggleable__label {cursor: pointer;display: block;width: 100%;margin-bottom: 0;padding: 0.3em;box-sizing: border-box;text-align: center;}#sk-container-id-1 label.sk-toggleable__label-arrow:before {content: \"▸\";float: left;margin-right: 0.25em;color: #696969;}#sk-container-id-1 label.sk-toggleable__label-arrow:hover:before {color: black;}#sk-container-id-1 div.sk-estimator:hover label.sk-toggleable__label-arrow:before {color: black;}#sk-container-id-1 div.sk-toggleable__content {max-height: 0;max-width: 0;overflow: hidden;text-align: left;background-color: #f0f8ff;}#sk-container-id-1 div.sk-toggleable__content pre {margin: 0.2em;color: black;border-radius: 0.25em;background-color: #f0f8ff;}#sk-container-id-1 input.sk-toggleable__control:checked~div.sk-toggleable__content {max-height: 200px;max-width: 100%;overflow: auto;}#sk-container-id-1 input.sk-toggleable__control:checked~label.sk-toggleable__label-arrow:before {content: \"▾\";}#sk-container-id-1 div.sk-estimator input.sk-toggleable__control:checked~label.sk-toggleable__label {background-color: #d4ebff;}#sk-container-id-1 div.sk-label input.sk-toggleable__control:checked~label.sk-toggleable__label {background-color: #d4ebff;}#sk-container-id-1 input.sk-hidden--visually {border: 0;clip: rect(1px 1px 1px 1px);clip: rect(1px, 1px, 1px, 1px);height: 1px;margin: -1px;overflow: hidden;padding: 0;position: absolute;width: 1px;}#sk-container-id-1 div.sk-estimator {font-family: monospace;background-color: #f0f8ff;border: 1px dotted black;border-radius: 0.25em;box-sizing: border-box;margin-bottom: 0.5em;}#sk-container-id-1 div.sk-estimator:hover {background-color: #d4ebff;}#sk-container-id-1 div.sk-parallel-item::after {content: \"\";width: 100%;border-bottom: 1px solid gray;flex-grow: 1;}#sk-container-id-1 div.sk-label:hover label.sk-toggleable__label {background-color: #d4ebff;}#sk-container-id-1 div.sk-serial::before {content: \"\";position: absolute;border-left: 1px solid gray;box-sizing: border-box;top: 0;bottom: 0;left: 50%;z-index: 0;}#sk-container-id-1 div.sk-serial {display: flex;flex-direction: column;align-items: center;background-color: white;padding-right: 0.2em;padding-left: 0.2em;position: relative;}#sk-container-id-1 div.sk-item {position: relative;z-index: 1;}#sk-container-id-1 div.sk-parallel {display: flex;align-items: stretch;justify-content: center;background-color: white;position: relative;}#sk-container-id-1 div.sk-item::before, #sk-container-id-1 div.sk-parallel-item::before {content: \"\";position: absolute;border-left: 1px solid gray;box-sizing: border-box;top: 0;bottom: 0;left: 50%;z-index: -1;}#sk-container-id-1 div.sk-parallel-item {display: flex;flex-direction: column;z-index: 1;position: relative;background-color: white;}#sk-container-id-1 div.sk-parallel-item:first-child::after {align-self: flex-end;width: 50%;}#sk-container-id-1 div.sk-parallel-item:last-child::after {align-self: flex-start;width: 50%;}#sk-container-id-1 div.sk-parallel-item:only-child::after {width: 0;}#sk-container-id-1 div.sk-dashed-wrapped {border: 1px dashed gray;margin: 0 0.4em 0.5em 0.4em;box-sizing: border-box;padding-bottom: 0.4em;background-color: white;}#sk-container-id-1 div.sk-label label {font-family: monospace;font-weight: bold;display: inline-block;line-height: 1.2em;}#sk-container-id-1 div.sk-label-container {text-align: center;}#sk-container-id-1 div.sk-container {/* jupyter's `normalize.less` sets `[hidden] { display: none; }` but bootstrap.min.css set `[hidden] { display: none !important; }` so we also need the `!important` here to be able to override the default hidden behavior on the sphinx rendered scikit-learn.org. See: https://github.com/scikit-learn/scikit-learn/issues/21755 */display: inline-block !important;position: relative;}#sk-container-id-1 div.sk-text-repr-fallback {display: none;}</style><div id=\"sk-container-id-1\" class=\"sk-top-container\"><div class=\"sk-text-repr-fallback\"><pre>XGBRegressor(base_score=None, booster=None, callbacks=None,\n",
              "             colsample_bylevel=None, colsample_bynode=None,\n",
              "             colsample_bytree=None, early_stopping_rounds=None,\n",
              "             enable_categorical=False, eval_metric=None, feature_types=None,\n",
              "             gamma=None, gpu_id=None, grow_policy=None, importance_type=None,\n",
              "             interaction_constraints=None, learning_rate=None, max_bin=None,\n",
              "             max_cat_threshold=None, max_cat_to_onehot=None,\n",
              "             max_delta_step=None, max_depth=None, max_leaves=None,\n",
              "             min_child_weight=None, missing=nan, monotone_constraints=None,\n",
              "             n_estimators=100, n_jobs=None, num_parallel_tree=None,\n",
              "             predictor=None, random_state=None, ...)</pre><b>In a Jupyter environment, please rerun this cell to show the HTML representation or trust the notebook. <br />On GitHub, the HTML representation is unable to render, please try loading this page with nbviewer.org.</b></div><div class=\"sk-container\" hidden><div class=\"sk-item\"><div class=\"sk-estimator sk-toggleable\"><input class=\"sk-toggleable__control sk-hidden--visually\" id=\"sk-estimator-id-1\" type=\"checkbox\" checked><label for=\"sk-estimator-id-1\" class=\"sk-toggleable__label sk-toggleable__label-arrow\">XGBRegressor</label><div class=\"sk-toggleable__content\"><pre>XGBRegressor(base_score=None, booster=None, callbacks=None,\n",
              "             colsample_bylevel=None, colsample_bynode=None,\n",
              "             colsample_bytree=None, early_stopping_rounds=None,\n",
              "             enable_categorical=False, eval_metric=None, feature_types=None,\n",
              "             gamma=None, gpu_id=None, grow_policy=None, importance_type=None,\n",
              "             interaction_constraints=None, learning_rate=None, max_bin=None,\n",
              "             max_cat_threshold=None, max_cat_to_onehot=None,\n",
              "             max_delta_step=None, max_depth=None, max_leaves=None,\n",
              "             min_child_weight=None, missing=nan, monotone_constraints=None,\n",
              "             n_estimators=100, n_jobs=None, num_parallel_tree=None,\n",
              "             predictor=None, random_state=None, ...)</pre></div></div></div></div></div>"
            ]
          },
          "metadata": {},
          "execution_count": 37
        }
      ]
    },
    {
      "cell_type": "code",
      "source": [
        "rfe = RFE(estimator=model, n_features_to_select=5)\n",
        "\n",
        "# Perform feature selection\n",
        "X_train_selected = rfe.fit_transform(X_train, y_train)\n",
        "\n",
        "# Get the selected feature indices\n",
        "selected_indices = rfe.get_support(indices=True)\n",
        "\n",
        "# Get the selected feature names\n",
        "selected_features = merged_df.columns[selected_indices]\n",
        "\n",
        "# Print the selected feature names\n",
        "print(\"Selected Features:\")\n",
        "for feature in selected_features:\n",
        "    print(feature)\n"
      ],
      "metadata": {
        "colab": {
          "base_uri": "https://localhost:8080/"
        },
        "id": "YXpBfSBso5jK",
        "outputId": "bd70c23d-e851-4478-9ce3-c48f1fdc29e1"
      },
      "execution_count": 38,
      "outputs": [
        {
          "output_type": "stream",
          "name": "stdout",
          "text": [
            "Selected Features:\n",
            "Date\n",
            "new_cases_per_million\n",
            "total_tests_per_thousand\n",
            "new_vaccinations_smoothed_per_million\n",
            "stringency_index\n"
          ]
        }
      ]
    },
    {
      "cell_type": "code",
      "source": [
        "# Update features\n",
        "X_train = features.iloc[train_index][['total_cases_per_million', 'weekly_hosp_admissions_per_million',\n",
        "                                          'new_vaccinations_smoothed_per_million', 'stringency_index',\n",
        "                                          'WeekNumber', 'holiday']]\n",
        "X_test = features.iloc[test_index][['total_cases_per_million', 'weekly_hosp_admissions_per_million',\n",
        "                                        'new_vaccinations_smoothed_per_million', 'stringency_index',\n",
        "                                        'WeekNumber', 'holiday']]"
      ],
      "metadata": {
        "id": "LfZ3SvDCkkvX"
      },
      "execution_count": 39,
      "outputs": []
    },
    {
      "cell_type": "code",
      "source": [
        "#Model1: XGBoost model\n",
        "model = xgb.XGBRegressor()\n",
        "model.fit(X_train, y_train)\n",
        "\n",
        "# Make predictions on the test set\n",
        "predictions = model.predict(X_test)\n",
        "\n",
        "# Evaluate the model on the test set\n",
        "xgboost_mse = mean_squared_error(y_test, predictions)\n",
        "print(\"Mean Squared Error:\", xgboost_mse)"
      ],
      "metadata": {
        "colab": {
          "base_uri": "https://localhost:8080/"
        },
        "id": "SI3bpQu2MsS9",
        "outputId": "f3e6e592-65da-4506-884d-e90cb444c532"
      },
      "execution_count": 40,
      "outputs": [
        {
          "output_type": "stream",
          "name": "stdout",
          "text": [
            "Mean Squared Error: 0.21693390434766957\n"
          ]
        }
      ]
    },
    {
      "cell_type": "code",
      "source": [
        "# Get feature importances\n",
        "feature_importances = model.feature_importances_\n",
        "\n",
        "# Create a DataFrame to display feature importances\n",
        "importance_df = pd.DataFrame({'Feature': X_train.columns, 'Importance': feature_importances})\n",
        "importance_df = importance_df.sort_values('Importance', ascending=False)\n",
        "\n",
        "# Print feature importances\n",
        "print(importance_df)"
      ],
      "metadata": {
        "colab": {
          "base_uri": "https://localhost:8080/"
        },
        "id": "xoO6JVttL25t",
        "outputId": "d51c5b2f-4416-4632-a830-eee058fcfb51"
      },
      "execution_count": 41,
      "outputs": [
        {
          "output_type": "stream",
          "name": "stdout",
          "text": [
            "                                 Feature  Importance\n",
            "3                       stringency_index    0.949983\n",
            "2  new_vaccinations_smoothed_per_million    0.017052\n",
            "0                total_cases_per_million    0.012653\n",
            "4                             WeekNumber    0.011016\n",
            "1     weekly_hosp_admissions_per_million    0.006242\n",
            "5                                holiday    0.003055\n"
          ]
        }
      ]
    },
    {
      "cell_type": "code",
      "source": [
        "# Create a bar plot of feature importances\n",
        "plt.figure(figsize=(10, 6))\n",
        "plt.bar(importance_df['Feature'], importance_df['Importance'])\n",
        "plt.xlabel('Feature')\n",
        "plt.ylabel('Importance')\n",
        "plt.title('Feature Importances - XGBoost')\n",
        "plt.xticks(rotation=90)\n",
        "plt.show()"
      ],
      "metadata": {
        "colab": {
          "base_uri": "https://localhost:8080/",
          "height": 832
        },
        "id": "VblHfanZNf8o",
        "outputId": "8ce032ed-fb75-4362-d05c-2df0516ded47"
      },
      "execution_count": 42,
      "outputs": [
        {
          "output_type": "display_data",
          "data": {
            "text/plain": [
              "<Figure size 1000x600 with 1 Axes>"
            ],
            "image/png": "[encoded data removed]"
          },
          "metadata": {}
        }
      ]
    },
    {
      "cell_type": "code",
      "source": [
        "# Model 2: Linear Regression\n",
        "linear_model = LinearRegression()\n",
        "linear_model.fit(X_train, y_train)\n",
        "linear_pred = linear_model.predict(X_test)\n",
        "linear_mse = mean_squared_error(y_test, linear_pred)\n",
        "\n",
        "# Model 3: Random Forest Regression\n",
        "rf_model = RandomForestRegressor()\n",
        "rf_model.fit(X_train, y_train)\n",
        "rf_pred = rf_model.predict(X_test)\n",
        "rf_mse = mean_squared_error(y_test, rf_pred)\n",
        "\n",
        "# Model 4: Support Vector Regression (SVR)\n",
        "svr_model = SVR()\n",
        "svr_model.fit(X_train, y_train)\n",
        "svr_pred = svr_model.predict(X_test)\n",
        "svr_mse = mean_squared_error(y_test, svr_pred)\n",
        "\n",
        "# Compare the Mean Squared Error (MSE) of the models\n",
        "print(\"XGBoost:\", xgboost_mse)\n",
        "print(\"Linear Regression MSE:\", linear_mse)\n",
        "print(\"Random Forest Regression MSE:\", rf_mse)\n",
        "print(\"SVR MSE:\", svr_mse)\n"
      ],
      "metadata": {
        "colab": {
          "base_uri": "https://localhost:8080/"
        },
        "id": "-9HXAegyoern",
        "outputId": "081b3fa6-3014-4ab2-ebdb-4dbd811ce9be"
      },
      "execution_count": 77,
      "outputs": [
        {
          "output_type": "stream",
          "name": "stdout",
          "text": [
            "XGBoost: 0.21693390434766957\n",
            "Linear Regression MSE: 0.2489514129377834\n",
            "Random Forest Regression MSE: 0.23130948704625656\n",
            "SVR MSE: 1.6551653090721121\n"
          ]
        }
      ]
    },
    {
      "cell_type": "code",
      "source": [
        "#XGBoost has the least Mean Squared Error, followed by Random Forest"
      ],
      "metadata": {
        "id": "HC_mAVJtsT_y"
      },
      "execution_count": 78,
      "outputs": []
    },
    {
      "cell_type": "code",
      "source": [
        "#Tuning hyperparameters- XGboost"
      ],
      "metadata": {
        "id": "KaLNVCskqDCx"
      },
      "execution_count": 79,
      "outputs": []
    },
    {
      "cell_type": "code",
      "source": [
        "from sklearn.model_selection import GridSearchCV\n",
        "\n",
        "# Define the XGBoost regressor\n",
        "model = xgb.XGBRegressor()\n",
        "\n",
        "# Define the hyperparameter grid\n",
        "param_grid = {\n",
        "    'max_depth': [3, 5, 7],\n",
        "    'learning_rate': [0.1, 0.01, 0.001],\n",
        "    'n_estimators': [100, 200, 300],\n",
        "    'subsample': [0.8, 1.0],\n",
        "    'colsample_bytree': [0.8, 1.0]\n",
        "}\n",
        "\n",
        "# Perform grid search with cross-validation\n",
        "grid_search = GridSearchCV(estimator=model, param_grid=param_grid, cv=5, scoring='neg_mean_squared_error')\n",
        "grid_search.fit(X_train, y_train)\n",
        "\n",
        "# Get the best hyperparameters\n",
        "best_params = grid_search.best_params_\n",
        "\n",
        "# Train a new model using the best hyperparameters\n",
        "best_model = xgb.XGBRegressor(**best_params)\n",
        "best_model.fit(X_train, y_train)"
      ],
      "metadata": {
        "colab": {
          "base_uri": "https://localhost:8080/",
          "height": 248
        },
        "id": "OGnAt1P5pBmd",
        "outputId": "92868470-dcf5-4722-b64e-7746d1dd4d43"
      },
      "execution_count": 80,
      "outputs": [
        {
          "output_type": "execute_result",
          "data": {
            "text/plain": [
              "XGBRegressor(base_score=None, booster=None, callbacks=None,\n",
              "             colsample_bylevel=None, colsample_bynode=None,\n",
              "             colsample_bytree=0.8, early_stopping_rounds=None,\n",
              "             enable_categorical=False, eval_metric=None, feature_types=None,\n",
              "             gamma=None, gpu_id=None, grow_policy=None, importance_type=None,\n",
              "             interaction_constraints=None, learning_rate=0.1, max_bin=None,\n",
              "             max_cat_threshold=None, max_cat_to_onehot=None,\n",
              "             max_delta_step=None, max_depth=7, max_leaves=None,\n",
              "             min_child_weight=None, missing=nan, monotone_constraints=None,\n",
              "             n_estimators=300, n_jobs=None, num_parallel_tree=None,\n",
              "             predictor=None, random_state=None, ...)"
            ],
            "text/html": [
              "<style>#sk-container-id-2 {color: black;background-color: white;}#sk-container-id-2 pre{padding: 0;}#sk-container-id-2 div.sk-toggleable {background-color: white;}#sk-container-id-2 label.sk-toggleable__label {cursor: pointer;display: block;width: 100%;margin-bottom: 0;padding: 0.3em;box-sizing: border-box;text-align: center;}#sk-container-id-2 label.sk-toggleable__label-arrow:before {content: \"▸\";float: left;margin-right: 0.25em;color: #696969;}#sk-container-id-2 label.sk-toggleable__label-arrow:hover:before {color: black;}#sk-container-id-2 div.sk-estimator:hover label.sk-toggleable__label-arrow:before {color: black;}#sk-container-id-2 div.sk-toggleable__content {max-height: 0;max-width: 0;overflow: hidden;text-align: left;background-color: #f0f8ff;}#sk-container-id-2 div.sk-toggleable__content pre {margin: 0.2em;color: black;border-radius: 0.25em;background-color: #f0f8ff;}#sk-container-id-2 input.sk-toggleable__control:checked~div.sk-toggleable__content {max-height: 200px;max-width: 100%;overflow: auto;}#sk-container-id-2 input.sk-toggleable__control:checked~label.sk-toggleable__label-arrow:before {content: \"▾\";}#sk-container-id-2 div.sk-estimator input.sk-toggleable__control:checked~label.sk-toggleable__label {background-color: #d4ebff;}#sk-container-id-2 div.sk-label input.sk-toggleable__control:checked~label.sk-toggleable__label {background-color: #d4ebff;}#sk-container-id-2 input.sk-hidden--visually {border: 0;clip: rect(1px 1px 1px 1px);clip: rect(1px, 1px, 1px, 1px);height: 1px;margin: -1px;overflow: hidden;padding: 0;position: absolute;width: 1px;}#sk-container-id-2 div.sk-estimator {font-family: monospace;background-color: #f0f8ff;border: 1px dotted black;border-radius: 0.25em;box-sizing: border-box;margin-bottom: 0.5em;}#sk-container-id-2 div.sk-estimator:hover {background-color: #d4ebff;}#sk-container-id-2 div.sk-parallel-item::after {content: \"\";width: 100%;border-bottom: 1px solid gray;flex-grow: 1;}#sk-container-id-2 div.sk-label:hover label.sk-toggleable__label {background-color: #d4ebff;}#sk-container-id-2 div.sk-serial::before {content: \"\";position: absolute;border-left: 1px solid gray;box-sizing: border-box;top: 0;bottom: 0;left: 50%;z-index: 0;}#sk-container-id-2 div.sk-serial {display: flex;flex-direction: column;align-items: center;background-color: white;padding-right: 0.2em;padding-left: 0.2em;position: relative;}#sk-container-id-2 div.sk-item {position: relative;z-index: 1;}#sk-container-id-2 div.sk-parallel {display: flex;align-items: stretch;justify-content: center;background-color: white;position: relative;}#sk-container-id-2 div.sk-item::before, #sk-container-id-2 div.sk-parallel-item::before {content: \"\";position: absolute;border-left: 1px solid gray;box-sizing: border-box;top: 0;bottom: 0;left: 50%;z-index: -1;}#sk-container-id-2 div.sk-parallel-item {display: flex;flex-direction: column;z-index: 1;position: relative;background-color: white;}#sk-container-id-2 div.sk-parallel-item:first-child::after {align-self: flex-end;width: 50%;}#sk-container-id-2 div.sk-parallel-item:last-child::after {align-self: flex-start;width: 50%;}#sk-container-id-2 div.sk-parallel-item:only-child::after {width: 0;}#sk-container-id-2 div.sk-dashed-wrapped {border: 1px dashed gray;margin: 0 0.4em 0.5em 0.4em;box-sizing: border-box;padding-bottom: 0.4em;background-color: white;}#sk-container-id-2 div.sk-label label {font-family: monospace;font-weight: bold;display: inline-block;line-height: 1.2em;}#sk-container-id-2 div.sk-label-container {text-align: center;}#sk-container-id-2 div.sk-container {/* jupyter's `normalize.less` sets `[hidden] { display: none; }` but bootstrap.min.css set `[hidden] { display: none !important; }` so we also need the `!important` here to be able to override the default hidden behavior on the sphinx rendered scikit-learn.org. See: https://github.com/scikit-learn/scikit-learn/issues/21755 */display: inline-block !important;position: relative;}#sk-container-id-2 div.sk-text-repr-fallback {display: none;}</style><div id=\"sk-container-id-2\" class=\"sk-top-container\"><div class=\"sk-text-repr-fallback\"><pre>XGBRegressor(base_score=None, booster=None, callbacks=None,\n",
              "             colsample_bylevel=None, colsample_bynode=None,\n",
              "             colsample_bytree=0.8, early_stopping_rounds=None,\n",
              "             enable_categorical=False, eval_metric=None, feature_types=None,\n",
              "             gamma=None, gpu_id=None, grow_policy=None, importance_type=None,\n",
              "             interaction_constraints=None, learning_rate=0.1, max_bin=None,\n",
              "             max_cat_threshold=None, max_cat_to_onehot=None,\n",
              "             max_delta_step=None, max_depth=7, max_leaves=None,\n",
              "             min_child_weight=None, missing=nan, monotone_constraints=None,\n",
              "             n_estimators=300, n_jobs=None, num_parallel_tree=None,\n",
              "             predictor=None, random_state=None, ...)</pre><b>In a Jupyter environment, please rerun this cell to show the HTML representation or trust the notebook. <br />On GitHub, the HTML representation is unable to render, please try loading this page with nbviewer.org.</b></div><div class=\"sk-container\" hidden><div class=\"sk-item\"><div class=\"sk-estimator sk-toggleable\"><input class=\"sk-toggleable__control sk-hidden--visually\" id=\"sk-estimator-id-2\" type=\"checkbox\" checked><label for=\"sk-estimator-id-2\" class=\"sk-toggleable__label sk-toggleable__label-arrow\">XGBRegressor</label><div class=\"sk-toggleable__content\"><pre>XGBRegressor(base_score=None, booster=None, callbacks=None,\n",
              "             colsample_bylevel=None, colsample_bynode=None,\n",
              "             colsample_bytree=0.8, early_stopping_rounds=None,\n",
              "             enable_categorical=False, eval_metric=None, feature_types=None,\n",
              "             gamma=None, gpu_id=None, grow_policy=None, importance_type=None,\n",
              "             interaction_constraints=None, learning_rate=0.1, max_bin=None,\n",
              "             max_cat_threshold=None, max_cat_to_onehot=None,\n",
              "             max_delta_step=None, max_depth=7, max_leaves=None,\n",
              "             min_child_weight=None, missing=nan, monotone_constraints=None,\n",
              "             n_estimators=300, n_jobs=None, num_parallel_tree=None,\n",
              "             predictor=None, random_state=None, ...)</pre></div></div></div></div></div>"
            ]
          },
          "metadata": {},
          "execution_count": 80
        }
      ]
    },
    {
      "cell_type": "code",
      "source": [
        "# Make predictions on the test data\n",
        "y_pred = best_model.predict(X_test)\n",
        "\n",
        "# Calculate the MSE\n",
        "mse_tuned_xgboost = mean_squared_error(y_test, y_pred)\n",
        "\n",
        "# Print the MSE\n",
        "print(\"Mean Squared Error:\",mse_tuned_xgboost)"
      ],
      "metadata": {
        "colab": {
          "base_uri": "https://localhost:8080/"
        },
        "id": "sAJItawwpwX7",
        "outputId": "b278198d-53b9-425d-fbca-7b5a77aa1d7d"
      },
      "execution_count": 81,
      "outputs": [
        {
          "output_type": "stream",
          "name": "stdout",
          "text": [
            "Mean Squared Error: 0.22124381829343087\n"
          ]
        }
      ]
    },
    {
      "cell_type": "markdown",
      "source": [
        "#Interpretation and Findings"
      ],
      "metadata": {
        "id": "XpG1fpJL3SGs"
      }
    },
    {
      "cell_type": "markdown",
      "source": [
        "* The XGBoost model achieved the most effective performance among the\n",
        "methods tested, with a mean squared error (MSE) of 0.21. This indicates that the model's predictions deviated from the actual values by an average squared difference of 0.22\n",
        "\n",
        "* The most important feature in predicting passenger inflow is the stringency_index, with an importance score of approximately 0.95. Higher stringency measures, such as lockdowns or travel restrictions, are associated with reduced passenger inflow.\n",
        "\n",
        "* The new_vaccinations_smoothed_per_million feature has moderate importance (importance score of around 0.02). A higher rate of new vaccinations per million people may have positively impacted passenger inflow.\n",
        "\n",
        "* The total_cases_per_million and WeekNumber features have some importance (importance scores around 0.01 each). Higher total COVID-19 cases per million people and specific weeks in the year might influence passenger inflow.\n",
        "\n",
        "* The weekly_hosp_admissions_per_million and holiday features have relatively lower importance (importance scores around 0.006 and 0.003, respectively). They have a smaller impact on predicting passenger inflow, reflecting the healthcare situation"
      ],
      "metadata": {
        "id": "HXTsiJw7LZUm"
      }
    },
    {
      "cell_type": "code",
      "source": [],
      "metadata": {
        "id": "a0rXWcKILgNu"
      },
      "execution_count": null,
      "outputs": []
    }
  ]
}