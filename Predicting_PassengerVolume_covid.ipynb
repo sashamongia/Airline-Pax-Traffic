{
  "nbformat": 4,
  "nbformat_minor": 0,
  "metadata": {
    "colab": {
      "provenance": [],
      "toc_visible": true,
      "authorship_tag": "ABX9TyP9/6XzMukaG2J5+MFtjElz",
      "include_colab_link": true
    },
    "kernelspec": {
      "name": "python3",
      "display_name": "Python 3"
    },
    "language_info": {
      "name": "python"
    }
  },
  "cells": [
    {
      "cell_type": "markdown",
      "metadata": {
        "id": "view-in-github",
        "colab_type": "text"
      },
      "source": [
        "<a href=\"https://colab.research.google.com/github/sashamongia/Predicting-traffic-Covid/blob/main/Predicting_PassengerVolume_covid.ipynb\" target=\"_parent\"><img src=\"https://colab.research.google.com/assets/colab-badge.svg\" alt=\"Open In Colab\"/></a>"
      ]
    },
    {
      "cell_type": "markdown",
      "source": [
        "#Importing Packages"
      ],
      "metadata": {
        "id": "y9cvnVmA087Q"
      }
    },
    {
      "cell_type": "code",
      "execution_count": 1,
      "metadata": {
        "id": "pI5Aw-xTDzLJ"
      },
      "outputs": [],
      "source": [
        "import os\n",
        "import pandas as pd\n",
        "import numpy as np\n",
        "import seaborn as sns\n",
        "import matplotlib.pyplot as plt\n",
        "import matplotlib.pylab as pylab\n",
        "from matplotlib import cm\n",
        "%matplotlib inline\n",
        "import matplotlib.pylab as pylab\n",
        "pylab.rcParams['figure.figsize'] = 10, 5\n",
        "pd.set_option('display.max_columns', 100)\n",
        "import io\n",
        "import requests\n",
        "import warnings\n",
        "import csv\n",
        "np.random.seed(27)\n",
        "warnings.filterwarnings('ignore')\n",
        "with warnings.catch_warnings():\n",
        "    warnings.filterwarnings(\"ignore\",category=DeprecationWarning)\n",
        "\n",
        "import sklearn\n",
        "from sklearn.cluster import KMeans\n",
        "from sklearn.preprocessing import StandardScaler\n",
        "from sklearn.preprocessing import LabelEncoder\n",
        "import sklearn.metrics as sm\n",
        "from sklearn.metrics import confusion_matrix, classification_report\n",
        "from scipy import stats\n",
        "import matplotlib.pyplot as plt\n",
        "from matplotlib import rcParams\n",
        "import seaborn as sns\n",
        "from sklearn.cluster import KMeans\n",
        "from sklearn.metrics import silhouette_score, silhouette_samples\n",
        "import statsmodels.formula.api as sm\n",
        "import matplotlib.pyplot as plt\n",
        "from mpl_toolkits.mplot3d import Axes3D\n",
        "from sklearn.model_selection import train_test_split\n",
        "from xgboost import XGBRegressor\n",
        "from sklearn.metrics import mean_squared_error\n",
        "from sklearn.preprocessing import StandardScaler\n",
        "from sklearn.linear_model import LinearRegression\n",
        "from sklearn.ensemble import RandomForestRegressor\n",
        "from sklearn.svm import SVR\n",
        "from sklearn.feature_selection import RFE\n",
        "import holidays\n",
        "from sklearn.model_selection import TimeSeriesSplit\n",
        "import xgboost as xgb\n",
        "from sklearn.impute import SimpleImputer\n",
        "from sklearn.model_selection import GridSearchCV"
      ]
    },
    {
      "cell_type": "markdown",
      "source": [
        "# Uploading Dataset+ Data Cleaning\n"
      ],
      "metadata": {
        "id": "fbo1J-T_1OCv"
      }
    },
    {
      "cell_type": "markdown",
      "source": [
        "TSA Checkpoint dataset: Includes Dates and Passenger Inflow to the airports in USA"
      ],
      "metadata": {
        "id": "GyrFymYIz7u0"
      }
    },
    {
      "cell_type": "code",
      "source": [
        "# Downloading the csv file\n",
        "url = \"https://raw.githubusercontent.com/sashamongia/Airline-Pax-Traffic/main/TSA%20checkpoint%20data.csv\"\n",
        "download = requests.get(url).content\n",
        "\n",
        "# Reading the downloaded content and turning it into a pandas dataframe\n",
        "\n",
        "df = pd.read_csv(io.StringIO(download.decode('utf-8')))"
      ],
      "metadata": {
        "id": "XHz-8C9q5xp4"
      },
      "execution_count": 2,
      "outputs": []
    },
    {
      "cell_type": "code",
      "source": [
        "#Check column names\n",
        "df.columns"
      ],
      "metadata": {
        "colab": {
          "base_uri": "https://localhost:8080/"
        },
        "id": "6oy7Kj1i6OA5",
        "outputId": "1ab97c72-566f-445d-bcfd-f60bdfcaa428"
      },
      "execution_count": 3,
      "outputs": [
        {
          "output_type": "execute_result",
          "data": {
            "text/plain": [
              "Index(['Date', '2023', '2022', '2021', '2020', '2019'], dtype='object')"
            ]
          },
          "metadata": {},
          "execution_count": 3
        }
      ]
    },
    {
      "cell_type": "code",
      "source": [
        "# Reshape the DataFrame using the melt() function\n",
        "stacked_df = df.melt(id_vars='Date', var_name='Year', value_name='Passenger Numbers')\n",
        "\n",
        "print(stacked_df)"
      ],
      "metadata": {
        "colab": {
          "base_uri": "https://localhost:8080/"
        },
        "id": "DMO7FE-H6-Em",
        "outputId": "63e0cbc7-db50-4d81-d86b-6018a207261f"
      },
      "execution_count": 4,
      "outputs": [
        {
          "output_type": "stream",
          "name": "stdout",
          "text": [
            "           Date  Year Passenger Numbers\n",
            "0      7/6/2023  2023         2,529,182\n",
            "1      7/5/2023  2023         2,481,122\n",
            "2      7/4/2023  2023         2,007,445\n",
            "3      7/3/2023  2023         2,288,649\n",
            "4      7/2/2023  2023         2,529,730\n",
            "...         ...   ...               ...\n",
            "1815  7/12/2022  2019         2,447,177\n",
            "1816  7/11/2022  2019         2,615,115\n",
            "1817  7/10/2022  2019         2,669,717\n",
            "1818   7/9/2022  2019         2,312,178\n",
            "1819   7/8/2022  2019         2,716,812\n",
            "\n",
            "[1820 rows x 3 columns]\n"
          ]
        }
      ]
    },
    {
      "cell_type": "code",
      "source": [
        "# Replace the year in the Date column with the year from the Year column\n",
        "stacked_df['Date'] = stacked_df.apply(lambda row: row['Date'].replace(row['Date'].split('/')[2], row['Year']), axis=1)\n",
        "\n",
        "print(stacked_df)"
      ],
      "metadata": {
        "colab": {
          "base_uri": "https://localhost:8080/"
        },
        "id": "BQRUDWSe7fTo",
        "outputId": "9ac62b4f-9cff-4525-c0b9-c1def19c79e2"
      },
      "execution_count": 5,
      "outputs": [
        {
          "output_type": "stream",
          "name": "stdout",
          "text": [
            "           Date  Year Passenger Numbers\n",
            "0      7/6/2023  2023         2,529,182\n",
            "1      7/5/2023  2023         2,481,122\n",
            "2      7/4/2023  2023         2,007,445\n",
            "3      7/3/2023  2023         2,288,649\n",
            "4      7/2/2023  2023         2,529,730\n",
            "...         ...   ...               ...\n",
            "1815  7/12/2019  2019         2,447,177\n",
            "1816  7/11/2019  2019         2,615,115\n",
            "1817  7/10/2019  2019         2,669,717\n",
            "1818   7/9/2019  2019         2,312,178\n",
            "1819   7/8/2019  2019         2,716,812\n",
            "\n",
            "[1820 rows x 3 columns]\n"
          ]
        }
      ]
    },
    {
      "cell_type": "code",
      "source": [
        "stacked_df['Passenger Numbers'] = stacked_df['Passenger Numbers'].str.replace(',', '').astype(float)"
      ],
      "metadata": {
        "id": "1TI-paivO95-"
      },
      "execution_count": 6,
      "outputs": []
    },
    {
      "cell_type": "code",
      "source": [
        "stacked_df.head"
      ],
      "metadata": {
        "colab": {
          "base_uri": "https://localhost:8080/"
        },
        "id": "cUeKUPZAQBtl",
        "outputId": "14c4825e-a4ae-4b35-eb1a-ecc566bf03c3"
      },
      "execution_count": 7,
      "outputs": [
        {
          "output_type": "execute_result",
          "data": {
            "text/plain": [
              "<bound method NDFrame.head of            Date  Year  Passenger Numbers\n",
              "0      7/6/2023  2023          2529182.0\n",
              "1      7/5/2023  2023          2481122.0\n",
              "2      7/4/2023  2023          2007445.0\n",
              "3      7/3/2023  2023          2288649.0\n",
              "4      7/2/2023  2023          2529730.0\n",
              "...         ...   ...                ...\n",
              "1815  7/12/2019  2019          2447177.0\n",
              "1816  7/11/2019  2019          2615115.0\n",
              "1817  7/10/2019  2019          2669717.0\n",
              "1818   7/9/2019  2019          2312178.0\n",
              "1819   7/8/2019  2019          2716812.0\n",
              "\n",
              "[1820 rows x 3 columns]>"
            ]
          },
          "metadata": {},
          "execution_count": 7
        }
      ]
    },
    {
      "cell_type": "code",
      "source": [
        "nan_rows = stacked_df[np.isnan(stacked_df['Passenger Numbers'])]\n",
        "\n",
        "print(nan_rows)\n"
      ],
      "metadata": {
        "colab": {
          "base_uri": "https://localhost:8080/"
        },
        "id": "POv2RMJVQbNv",
        "outputId": "6e3548f4-424f-415b-e88d-1f4a4f6a1f8f"
      },
      "execution_count": 8,
      "outputs": [
        {
          "output_type": "stream",
          "name": "stdout",
          "text": [
            "           Date  Year  Passenger Numbers\n",
            "187  12/31/2023  2023                NaN\n",
            "188  12/30/2023  2023                NaN\n",
            "189  12/29/2023  2023                NaN\n",
            "190  12/28/2023  2023                NaN\n",
            "191  12/27/2023  2023                NaN\n",
            "..          ...   ...                ...\n",
            "359   7/12/2023  2023                NaN\n",
            "360   7/11/2023  2023                NaN\n",
            "361   7/10/2023  2023                NaN\n",
            "362    7/9/2023  2023                NaN\n",
            "363    7/8/2023  2023                NaN\n",
            "\n",
            "[177 rows x 3 columns]\n"
          ]
        }
      ]
    },
    {
      "cell_type": "code",
      "source": [
        "#removing dates without Passenger inflow data\n",
        "stacked_df = stacked_df.dropna(subset=['Passenger Numbers'])"
      ],
      "metadata": {
        "id": "l-FFZBc2RVTP"
      },
      "execution_count": 9,
      "outputs": []
    },
    {
      "cell_type": "code",
      "source": [
        "# Check for duplicate dates\n",
        "duplicate_dates = stacked_df[stacked_df.duplicated(subset='Date', keep=False)]\n",
        "\n",
        "if duplicate_dates.empty:\n",
        "    print(\"No duplicate dates found.\")\n",
        "else:\n",
        "    print(\"Duplicate dates found:\")\n",
        "    print(duplicate_dates)\n",
        "\n"
      ],
      "metadata": {
        "colab": {
          "base_uri": "https://localhost:8080/"
        },
        "id": "w0w5Sx097MfJ",
        "outputId": "7e6c5d75-16b4-42f1-873d-4debebda769c"
      },
      "execution_count": 10,
      "outputs": [
        {
          "output_type": "stream",
          "name": "stdout",
          "text": [
            "No duplicate dates found.\n"
          ]
        }
      ]
    },
    {
      "cell_type": "code",
      "source": [
        "#drop year column\n",
        "final_df = stacked_df.drop('Year', axis=1)"
      ],
      "metadata": {
        "id": "mUWHb1zb9Q2F"
      },
      "execution_count": 11,
      "outputs": []
    },
    {
      "cell_type": "code",
      "source": [
        "#Upload covid dataset DataSource: https://ourworldindata.org/coronavirus\n",
        "url2 = \"https://raw.githubusercontent.com/owid/covid-19-data/master/public/data/owid-covid-data.csv\"\n",
        "download2 = requests.get(url2).content\n",
        "\n",
        "# Reading the downloaded content and turning it into a pandas dataframe\n",
        "\n",
        "df2 = pd.read_csv(io.StringIO(download2.decode('utf-8')))"
      ],
      "metadata": {
        "id": "vU8Jw4Ht9jjf"
      },
      "execution_count": 12,
      "outputs": []
    },
    {
      "cell_type": "code",
      "source": [
        "df2.shape\n",
        "df2.columns"
      ],
      "metadata": {
        "colab": {
          "base_uri": "https://localhost:8080/"
        },
        "id": "tm45YxjX-vYP",
        "outputId": "44783efd-eeed-461c-a248-ed79eae382a6"
      },
      "execution_count": 13,
      "outputs": [
        {
          "output_type": "execute_result",
          "data": {
            "text/plain": [
              "Index(['iso_code', 'continent', 'location', 'date', 'total_cases', 'new_cases',\n",
              "       'new_cases_smoothed', 'total_deaths', 'new_deaths',\n",
              "       'new_deaths_smoothed', 'total_cases_per_million',\n",
              "       'new_cases_per_million', 'new_cases_smoothed_per_million',\n",
              "       'total_deaths_per_million', 'new_deaths_per_million',\n",
              "       'new_deaths_smoothed_per_million', 'reproduction_rate', 'icu_patients',\n",
              "       'icu_patients_per_million', 'hosp_patients',\n",
              "       'hosp_patients_per_million', 'weekly_icu_admissions',\n",
              "       'weekly_icu_admissions_per_million', 'weekly_hosp_admissions',\n",
              "       'weekly_hosp_admissions_per_million', 'total_tests', 'new_tests',\n",
              "       'total_tests_per_thousand', 'new_tests_per_thousand',\n",
              "       'new_tests_smoothed', 'new_tests_smoothed_per_thousand',\n",
              "       'positive_rate', 'tests_per_case', 'tests_units', 'total_vaccinations',\n",
              "       'people_vaccinated', 'people_fully_vaccinated', 'total_boosters',\n",
              "       'new_vaccinations', 'new_vaccinations_smoothed',\n",
              "       'total_vaccinations_per_hundred', 'people_vaccinated_per_hundred',\n",
              "       'people_fully_vaccinated_per_hundred', 'total_boosters_per_hundred',\n",
              "       'new_vaccinations_smoothed_per_million',\n",
              "       'new_people_vaccinated_smoothed',\n",
              "       'new_people_vaccinated_smoothed_per_hundred', 'stringency_index',\n",
              "       'population_density', 'median_age', 'aged_65_older', 'aged_70_older',\n",
              "       'gdp_per_capita', 'extreme_poverty', 'cardiovasc_death_rate',\n",
              "       'diabetes_prevalence', 'female_smokers', 'male_smokers',\n",
              "       'handwashing_facilities', 'hospital_beds_per_thousand',\n",
              "       'life_expectancy', 'human_development_index', 'population',\n",
              "       'excess_mortality_cumulative_absolute', 'excess_mortality_cumulative',\n",
              "       'excess_mortality', 'excess_mortality_cumulative_per_million'],\n",
              "      dtype='object')"
            ]
          },
          "metadata": {},
          "execution_count": 13
        }
      ]
    },
    {
      "cell_type": "code",
      "source": [
        "df2.head"
      ],
      "metadata": {
        "colab": {
          "base_uri": "https://localhost:8080/"
        },
        "id": "pAEohy_LCGxI",
        "outputId": "37cbf08b-bd4f-4308-b80e-812252db8893"
      },
      "execution_count": 14,
      "outputs": [
        {
          "output_type": "execute_result",
          "data": {
            "text/plain": [
              "<bound method NDFrame.head of        iso_code continent     location        date  total_cases  new_cases  \\\n",
              "0           AFG      Asia  Afghanistan  2020-01-03          NaN        0.0   \n",
              "1           AFG      Asia  Afghanistan  2020-01-04          NaN        0.0   \n",
              "2           AFG      Asia  Afghanistan  2020-01-05          NaN        0.0   \n",
              "3           AFG      Asia  Afghanistan  2020-01-06          NaN        0.0   \n",
              "4           AFG      Asia  Afghanistan  2020-01-07          NaN        0.0   \n",
              "...         ...       ...          ...         ...          ...        ...   \n",
              "323719      ZWE    Africa     Zimbabwe  2023-07-01     265524.0        0.0   \n",
              "323720      ZWE    Africa     Zimbabwe  2023-07-02     265524.0        0.0   \n",
              "323721      ZWE    Africa     Zimbabwe  2023-07-03     265604.0       80.0   \n",
              "323722      ZWE    Africa     Zimbabwe  2023-07-04     265604.0        0.0   \n",
              "323723      ZWE    Africa     Zimbabwe  2023-07-05     265604.0        0.0   \n",
              "\n",
              "        new_cases_smoothed  total_deaths  new_deaths  new_deaths_smoothed  \\\n",
              "0                      NaN           NaN         0.0                  NaN   \n",
              "1                      NaN           NaN         0.0                  NaN   \n",
              "2                      NaN           NaN         0.0                  NaN   \n",
              "3                      NaN           NaN         0.0                  NaN   \n",
              "4                      NaN           NaN         0.0                  NaN   \n",
              "...                    ...           ...         ...                  ...   \n",
              "323719              15.857        5707.0         0.0                0.000   \n",
              "323720              15.857        5707.0         0.0                0.000   \n",
              "323721              11.429        5709.0         2.0                0.286   \n",
              "323722              11.429        5709.0         0.0                0.286   \n",
              "323723              11.429        5709.0         0.0                0.286   \n",
              "\n",
              "        total_cases_per_million  new_cases_per_million  \\\n",
              "0                           NaN                  0.000   \n",
              "1                           NaN                  0.000   \n",
              "2                           NaN                  0.000   \n",
              "3                           NaN                  0.000   \n",
              "4                           NaN                  0.000   \n",
              "...                         ...                    ...   \n",
              "323719                16269.316                  0.000   \n",
              "323720                16269.316                  0.000   \n",
              "323721                16274.217                  4.902   \n",
              "323722                16274.217                  0.000   \n",
              "323723                16274.217                  0.000   \n",
              "\n",
              "        new_cases_smoothed_per_million  total_deaths_per_million  \\\n",
              "0                                  NaN                       NaN   \n",
              "1                                  NaN                       NaN   \n",
              "2                                  NaN                       NaN   \n",
              "3                                  NaN                       NaN   \n",
              "4                                  NaN                       NaN   \n",
              "...                                ...                       ...   \n",
              "323719                           0.972                   349.682   \n",
              "323720                           0.972                   349.682   \n",
              "323721                           0.700                   349.805   \n",
              "323722                           0.700                   349.805   \n",
              "323723                           0.700                   349.805   \n",
              "\n",
              "        new_deaths_per_million  new_deaths_smoothed_per_million  \\\n",
              "0                        0.000                              NaN   \n",
              "1                        0.000                              NaN   \n",
              "2                        0.000                              NaN   \n",
              "3                        0.000                              NaN   \n",
              "4                        0.000                              NaN   \n",
              "...                        ...                              ...   \n",
              "323719                   0.000                            0.000   \n",
              "323720                   0.000                            0.000   \n",
              "323721                   0.123                            0.018   \n",
              "323722                   0.000                            0.018   \n",
              "323723                   0.000                            0.018   \n",
              "\n",
              "        reproduction_rate  icu_patients  icu_patients_per_million  \\\n",
              "0                     NaN           NaN                       NaN   \n",
              "1                     NaN           NaN                       NaN   \n",
              "2                     NaN           NaN                       NaN   \n",
              "3                     NaN           NaN                       NaN   \n",
              "4                     NaN           NaN                       NaN   \n",
              "...                   ...           ...                       ...   \n",
              "323719                NaN           NaN                       NaN   \n",
              "323720                NaN           NaN                       NaN   \n",
              "323721                NaN           NaN                       NaN   \n",
              "323722                NaN           NaN                       NaN   \n",
              "323723                NaN           NaN                       NaN   \n",
              "\n",
              "        hosp_patients  hosp_patients_per_million  weekly_icu_admissions  \\\n",
              "0                 NaN                        NaN                    NaN   \n",
              "1                 NaN                        NaN                    NaN   \n",
              "2                 NaN                        NaN                    NaN   \n",
              "3                 NaN                        NaN                    NaN   \n",
              "4                 NaN                        NaN                    NaN   \n",
              "...               ...                        ...                    ...   \n",
              "323719            NaN                        NaN                    NaN   \n",
              "323720            NaN                        NaN                    NaN   \n",
              "323721            NaN                        NaN                    NaN   \n",
              "323722            NaN                        NaN                    NaN   \n",
              "323723            NaN                        NaN                    NaN   \n",
              "\n",
              "        weekly_icu_admissions_per_million  weekly_hosp_admissions  \\\n",
              "0                                     NaN                     NaN   \n",
              "1                                     NaN                     NaN   \n",
              "2                                     NaN                     NaN   \n",
              "3                                     NaN                     NaN   \n",
              "4                                     NaN                     NaN   \n",
              "...                                   ...                     ...   \n",
              "323719                                NaN                     NaN   \n",
              "323720                                NaN                     NaN   \n",
              "323721                                NaN                     NaN   \n",
              "323722                                NaN                     NaN   \n",
              "323723                                NaN                     NaN   \n",
              "\n",
              "        weekly_hosp_admissions_per_million  total_tests  new_tests  \\\n",
              "0                                      NaN          NaN        NaN   \n",
              "1                                      NaN          NaN        NaN   \n",
              "2                                      NaN          NaN        NaN   \n",
              "3                                      NaN          NaN        NaN   \n",
              "4                                      NaN          NaN        NaN   \n",
              "...                                    ...          ...        ...   \n",
              "323719                                 NaN          NaN        NaN   \n",
              "323720                                 NaN          NaN        NaN   \n",
              "323721                                 NaN          NaN        NaN   \n",
              "323722                                 NaN          NaN        NaN   \n",
              "323723                                 NaN          NaN        NaN   \n",
              "\n",
              "        total_tests_per_thousand  new_tests_per_thousand  new_tests_smoothed  \\\n",
              "0                            NaN                     NaN                 NaN   \n",
              "1                            NaN                     NaN                 NaN   \n",
              "2                            NaN                     NaN                 NaN   \n",
              "3                            NaN                     NaN                 NaN   \n",
              "4                            NaN                     NaN                 NaN   \n",
              "...                          ...                     ...                 ...   \n",
              "323719                       NaN                     NaN                 NaN   \n",
              "323720                       NaN                     NaN                 NaN   \n",
              "323721                       NaN                     NaN                 NaN   \n",
              "323722                       NaN                     NaN                 NaN   \n",
              "323723                       NaN                     NaN                 NaN   \n",
              "\n",
              "        new_tests_smoothed_per_thousand  positive_rate  tests_per_case  \\\n",
              "0                                   NaN            NaN             NaN   \n",
              "1                                   NaN            NaN             NaN   \n",
              "2                                   NaN            NaN             NaN   \n",
              "3                                   NaN            NaN             NaN   \n",
              "4                                   NaN            NaN             NaN   \n",
              "...                                 ...            ...             ...   \n",
              "323719                              NaN            NaN             NaN   \n",
              "323720                              NaN            NaN             NaN   \n",
              "323721                              NaN            NaN             NaN   \n",
              "323722                              NaN            NaN             NaN   \n",
              "323723                              NaN            NaN             NaN   \n",
              "\n",
              "       tests_units  total_vaccinations  people_vaccinated  \\\n",
              "0              NaN                 NaN                NaN   \n",
              "1              NaN                 NaN                NaN   \n",
              "2              NaN                 NaN                NaN   \n",
              "3              NaN                 NaN                NaN   \n",
              "4              NaN                 NaN                NaN   \n",
              "...            ...                 ...                ...   \n",
              "323719         NaN                 NaN                NaN   \n",
              "323720         NaN                 NaN                NaN   \n",
              "323721         NaN                 NaN                NaN   \n",
              "323722         NaN                 NaN                NaN   \n",
              "323723         NaN                 NaN                NaN   \n",
              "\n",
              "        people_fully_vaccinated  total_boosters  new_vaccinations  \\\n",
              "0                           NaN             NaN               NaN   \n",
              "1                           NaN             NaN               NaN   \n",
              "2                           NaN             NaN               NaN   \n",
              "3                           NaN             NaN               NaN   \n",
              "4                           NaN             NaN               NaN   \n",
              "...                         ...             ...               ...   \n",
              "323719                      NaN             NaN               NaN   \n",
              "323720                      NaN             NaN               NaN   \n",
              "323721                      NaN             NaN               NaN   \n",
              "323722                      NaN             NaN               NaN   \n",
              "323723                      NaN             NaN               NaN   \n",
              "\n",
              "        new_vaccinations_smoothed  total_vaccinations_per_hundred  \\\n",
              "0                             NaN                             NaN   \n",
              "1                             NaN                             NaN   \n",
              "2                             NaN                             NaN   \n",
              "3                             NaN                             NaN   \n",
              "4                             NaN                             NaN   \n",
              "...                           ...                             ...   \n",
              "323719                        NaN                             NaN   \n",
              "323720                        NaN                             NaN   \n",
              "323721                        NaN                             NaN   \n",
              "323722                        NaN                             NaN   \n",
              "323723                        NaN                             NaN   \n",
              "\n",
              "        people_vaccinated_per_hundred  people_fully_vaccinated_per_hundred  \\\n",
              "0                                 NaN                                  NaN   \n",
              "1                                 NaN                                  NaN   \n",
              "2                                 NaN                                  NaN   \n",
              "3                                 NaN                                  NaN   \n",
              "4                                 NaN                                  NaN   \n",
              "...                               ...                                  ...   \n",
              "323719                            NaN                                  NaN   \n",
              "323720                            NaN                                  NaN   \n",
              "323721                            NaN                                  NaN   \n",
              "323722                            NaN                                  NaN   \n",
              "323723                            NaN                                  NaN   \n",
              "\n",
              "        total_boosters_per_hundred  new_vaccinations_smoothed_per_million  \\\n",
              "0                              NaN                                    NaN   \n",
              "1                              NaN                                    NaN   \n",
              "2                              NaN                                    NaN   \n",
              "3                              NaN                                    NaN   \n",
              "4                              NaN                                    NaN   \n",
              "...                            ...                                    ...   \n",
              "323719                         NaN                                    NaN   \n",
              "323720                         NaN                                    NaN   \n",
              "323721                         NaN                                    NaN   \n",
              "323722                         NaN                                    NaN   \n",
              "323723                         NaN                                    NaN   \n",
              "\n",
              "        new_people_vaccinated_smoothed  \\\n",
              "0                                  NaN   \n",
              "1                                  NaN   \n",
              "2                                  NaN   \n",
              "3                                  NaN   \n",
              "4                                  NaN   \n",
              "...                                ...   \n",
              "323719                             NaN   \n",
              "323720                             NaN   \n",
              "323721                             NaN   \n",
              "323722                             NaN   \n",
              "323723                             NaN   \n",
              "\n",
              "        new_people_vaccinated_smoothed_per_hundred  stringency_index  \\\n",
              "0                                              NaN               0.0   \n",
              "1                                              NaN               0.0   \n",
              "2                                              NaN               0.0   \n",
              "3                                              NaN               0.0   \n",
              "4                                              NaN               0.0   \n",
              "...                                            ...               ...   \n",
              "323719                                         NaN               NaN   \n",
              "323720                                         NaN               NaN   \n",
              "323721                                         NaN               NaN   \n",
              "323722                                         NaN               NaN   \n",
              "323723                                         NaN               NaN   \n",
              "\n",
              "        population_density  median_age  aged_65_older  aged_70_older  \\\n",
              "0                   54.422        18.6          2.581          1.337   \n",
              "1                   54.422        18.6          2.581          1.337   \n",
              "2                   54.422        18.6          2.581          1.337   \n",
              "3                   54.422        18.6          2.581          1.337   \n",
              "4                   54.422        18.6          2.581          1.337   \n",
              "...                    ...         ...            ...            ...   \n",
              "323719              42.729        19.6          2.822          1.882   \n",
              "323720              42.729        19.6          2.822          1.882   \n",
              "323721              42.729        19.6          2.822          1.882   \n",
              "323722              42.729        19.6          2.822          1.882   \n",
              "323723              42.729        19.6          2.822          1.882   \n",
              "\n",
              "        gdp_per_capita  extreme_poverty  cardiovasc_death_rate  \\\n",
              "0             1803.987              NaN                597.029   \n",
              "1             1803.987              NaN                597.029   \n",
              "2             1803.987              NaN                597.029   \n",
              "3             1803.987              NaN                597.029   \n",
              "4             1803.987              NaN                597.029   \n",
              "...                ...              ...                    ...   \n",
              "323719        1899.775             21.4                307.846   \n",
              "323720        1899.775             21.4                307.846   \n",
              "323721        1899.775             21.4                307.846   \n",
              "323722        1899.775             21.4                307.846   \n",
              "323723        1899.775             21.4                307.846   \n",
              "\n",
              "        diabetes_prevalence  female_smokers  male_smokers  \\\n",
              "0                      9.59             NaN           NaN   \n",
              "1                      9.59             NaN           NaN   \n",
              "2                      9.59             NaN           NaN   \n",
              "3                      9.59             NaN           NaN   \n",
              "4                      9.59             NaN           NaN   \n",
              "...                     ...             ...           ...   \n",
              "323719                 1.82             1.6          30.7   \n",
              "323720                 1.82             1.6          30.7   \n",
              "323721                 1.82             1.6          30.7   \n",
              "323722                 1.82             1.6          30.7   \n",
              "323723                 1.82             1.6          30.7   \n",
              "\n",
              "        handwashing_facilities  hospital_beds_per_thousand  life_expectancy  \\\n",
              "0                       37.746                         0.5            64.83   \n",
              "1                       37.746                         0.5            64.83   \n",
              "2                       37.746                         0.5            64.83   \n",
              "3                       37.746                         0.5            64.83   \n",
              "4                       37.746                         0.5            64.83   \n",
              "...                        ...                         ...              ...   \n",
              "323719                  36.791                         1.7            61.49   \n",
              "323720                  36.791                         1.7            61.49   \n",
              "323721                  36.791                         1.7            61.49   \n",
              "323722                  36.791                         1.7            61.49   \n",
              "323723                  36.791                         1.7            61.49   \n",
              "\n",
              "        human_development_index  population  \\\n",
              "0                         0.511  41128772.0   \n",
              "1                         0.511  41128772.0   \n",
              "2                         0.511  41128772.0   \n",
              "3                         0.511  41128772.0   \n",
              "4                         0.511  41128772.0   \n",
              "...                         ...         ...   \n",
              "323719                    0.571  16320539.0   \n",
              "323720                    0.571  16320539.0   \n",
              "323721                    0.571  16320539.0   \n",
              "323722                    0.571  16320539.0   \n",
              "323723                    0.571  16320539.0   \n",
              "\n",
              "        excess_mortality_cumulative_absolute  excess_mortality_cumulative  \\\n",
              "0                                        NaN                          NaN   \n",
              "1                                        NaN                          NaN   \n",
              "2                                        NaN                          NaN   \n",
              "3                                        NaN                          NaN   \n",
              "4                                        NaN                          NaN   \n",
              "...                                      ...                          ...   \n",
              "323719                                   NaN                          NaN   \n",
              "323720                                   NaN                          NaN   \n",
              "323721                                   NaN                          NaN   \n",
              "323722                                   NaN                          NaN   \n",
              "323723                                   NaN                          NaN   \n",
              "\n",
              "        excess_mortality  excess_mortality_cumulative_per_million  \n",
              "0                    NaN                                      NaN  \n",
              "1                    NaN                                      NaN  \n",
              "2                    NaN                                      NaN  \n",
              "3                    NaN                                      NaN  \n",
              "4                    NaN                                      NaN  \n",
              "...                  ...                                      ...  \n",
              "323719               NaN                                      NaN  \n",
              "323720               NaN                                      NaN  \n",
              "323721               NaN                                      NaN  \n",
              "323722               NaN                                      NaN  \n",
              "323723               NaN                                      NaN  \n",
              "\n",
              "[323724 rows x 67 columns]>"
            ]
          },
          "metadata": {},
          "execution_count": 14
        }
      ]
    },
    {
      "cell_type": "code",
      "source": [
        "#Checking data types\n",
        "df2.dtypes"
      ],
      "metadata": {
        "colab": {
          "base_uri": "https://localhost:8080/"
        },
        "id": "5zgQzqbPFkz0",
        "outputId": "48f8346a-7fa1-4c91-b70b-ef1db198e8aa"
      },
      "execution_count": 15,
      "outputs": [
        {
          "output_type": "execute_result",
          "data": {
            "text/plain": [
              "iso_code                                    object\n",
              "continent                                   object\n",
              "location                                    object\n",
              "date                                        object\n",
              "total_cases                                float64\n",
              "                                            ...   \n",
              "population                                 float64\n",
              "excess_mortality_cumulative_absolute       float64\n",
              "excess_mortality_cumulative                float64\n",
              "excess_mortality                           float64\n",
              "excess_mortality_cumulative_per_million    float64\n",
              "Length: 67, dtype: object"
            ]
          },
          "metadata": {},
          "execution_count": 15
        }
      ]
    },
    {
      "cell_type": "code",
      "source": [
        "final_df.dtypes"
      ],
      "metadata": {
        "colab": {
          "base_uri": "https://localhost:8080/"
        },
        "id": "ue-fqpzm_OuJ",
        "outputId": "fedfd5c7-5bc0-4675-ee55-5d9782c72c0b"
      },
      "execution_count": 16,
      "outputs": [
        {
          "output_type": "execute_result",
          "data": {
            "text/plain": [
              "Date                  object\n",
              "Passenger Numbers    float64\n",
              "dtype: object"
            ]
          },
          "metadata": {},
          "execution_count": 16
        }
      ]
    },
    {
      "cell_type": "code",
      "source": [
        "#convert Date from object to Datetime\n",
        "final_df['Date']= pd.to_datetime(final_df['Date'])"
      ],
      "metadata": {
        "id": "QfeXiSXpAxMY"
      },
      "execution_count": 17,
      "outputs": []
    },
    {
      "cell_type": "code",
      "source": [
        "#Checking data types\n",
        "df2.dtypes"
      ],
      "metadata": {
        "colab": {
          "base_uri": "https://localhost:8080/"
        },
        "id": "L1eKquRNKERE",
        "outputId": "c5e7781a-a897-4847-880d-2c3720e5603e"
      },
      "execution_count": 18,
      "outputs": [
        {
          "output_type": "execute_result",
          "data": {
            "text/plain": [
              "iso_code                                    object\n",
              "continent                                   object\n",
              "location                                    object\n",
              "date                                        object\n",
              "total_cases                                float64\n",
              "                                            ...   \n",
              "population                                 float64\n",
              "excess_mortality_cumulative_absolute       float64\n",
              "excess_mortality_cumulative                float64\n",
              "excess_mortality                           float64\n",
              "excess_mortality_cumulative_per_million    float64\n",
              "Length: 67, dtype: object"
            ]
          },
          "metadata": {},
          "execution_count": 18
        }
      ]
    },
    {
      "cell_type": "code",
      "source": [
        "#convert Date from object to Datetime\n",
        "df2['date']= pd.to_datetime(df2['date'])"
      ],
      "metadata": {
        "id": "uC80ukNFBdoX"
      },
      "execution_count": 19,
      "outputs": []
    },
    {
      "cell_type": "code",
      "source": [
        "columns_to_keep = ['date', 'iso_code', 'total_cases_per_million',\n",
        "                   'new_cases_per_million', 'new_cases_smoothed_per_million', 'total_deaths_per_million',\n",
        "                   'new_deaths_per_million', 'new_deaths_smoothed_per_million',\n",
        "                   'icu_patients_per_million', 'hosp_patients_per_million',\n",
        "                   'weekly_icu_admissions_per_million', 'weekly_hosp_admissions_per_million',\n",
        "                   'total_tests_per_thousand', 'new_tests_per_thousand',\n",
        "                   'new_tests_smoothed_per_thousand', 'positive_rate', 'tests_per_case',\n",
        "                   'total_vaccinations', 'people_vaccinated', 'people_fully_vaccinated', 'total_boosters',\n",
        "                   'new_vaccinations', 'new_vaccinations_smoothed', 'total_vaccinations_per_hundred',\n",
        "                   'people_vaccinated_per_hundred', 'people_fully_vaccinated_per_hundred', 'total_boosters_per_hundred',\n",
        "                   'new_vaccinations_smoothed_per_million',\n",
        "                   'new_people_vaccinated_smoothed_per_hundred', 'stringency_index']\n",
        "\n",
        "df2 = df2.loc[:, columns_to_keep]"
      ],
      "metadata": {
        "id": "40fjYZCBH2SQ"
      },
      "execution_count": 20,
      "outputs": []
    },
    {
      "cell_type": "code",
      "source": [
        "#Checking data types\n",
        "df2.dtypes"
      ],
      "metadata": {
        "colab": {
          "base_uri": "https://localhost:8080/"
        },
        "id": "RWtC6tVCEpx-",
        "outputId": "8c7107c6-98b0-4632-c8cf-34010f8eb8c8"
      },
      "execution_count": 21,
      "outputs": [
        {
          "output_type": "execute_result",
          "data": {
            "text/plain": [
              "date                                          datetime64[ns]\n",
              "iso_code                                              object\n",
              "total_cases_per_million                              float64\n",
              "new_cases_per_million                                float64\n",
              "new_cases_smoothed_per_million                       float64\n",
              "total_deaths_per_million                             float64\n",
              "new_deaths_per_million                               float64\n",
              "new_deaths_smoothed_per_million                      float64\n",
              "icu_patients_per_million                             float64\n",
              "hosp_patients_per_million                            float64\n",
              "weekly_icu_admissions_per_million                    float64\n",
              "weekly_hosp_admissions_per_million                   float64\n",
              "total_tests_per_thousand                             float64\n",
              "new_tests_per_thousand                               float64\n",
              "new_tests_smoothed_per_thousand                      float64\n",
              "positive_rate                                        float64\n",
              "tests_per_case                                       float64\n",
              "total_vaccinations                                   float64\n",
              "people_vaccinated                                    float64\n",
              "people_fully_vaccinated                              float64\n",
              "total_boosters                                       float64\n",
              "new_vaccinations                                     float64\n",
              "new_vaccinations_smoothed                            float64\n",
              "total_vaccinations_per_hundred                       float64\n",
              "people_vaccinated_per_hundred                        float64\n",
              "people_fully_vaccinated_per_hundred                  float64\n",
              "total_boosters_per_hundred                           float64\n",
              "new_vaccinations_smoothed_per_million                float64\n",
              "new_people_vaccinated_smoothed_per_hundred           float64\n",
              "stringency_index                                     float64\n",
              "dtype: object"
            ]
          },
          "metadata": {},
          "execution_count": 21
        }
      ]
    },
    {
      "cell_type": "code",
      "source": [
        "#Join tables on date\n",
        "merged_df = final_df.merge(df2[df2['iso_code'] == 'USA'], how='left', left_on='Date', right_on='date')"
      ],
      "metadata": {
        "id": "5xs4jX37FaDM"
      },
      "execution_count": 22,
      "outputs": []
    },
    {
      "cell_type": "code",
      "source": [
        "merged_df.head"
      ],
      "metadata": {
        "colab": {
          "base_uri": "https://localhost:8080/"
        },
        "id": "t7dlwlfWFyo2",
        "outputId": "2f44e55c-c203-4f39-bee4-945ed18c3427"
      },
      "execution_count": 23,
      "outputs": [
        {
          "output_type": "execute_result",
          "data": {
            "text/plain": [
              "<bound method NDFrame.head of            Date  Passenger Numbers       date iso_code  \\\n",
              "0    2023-07-06          2529182.0        NaT      NaN   \n",
              "1    2023-07-05          2481122.0 2023-07-05      USA   \n",
              "2    2023-07-04          2007445.0 2023-07-04      USA   \n",
              "3    2023-07-03          2288649.0 2023-07-03      USA   \n",
              "4    2023-07-02          2529730.0 2023-07-02      USA   \n",
              "...         ...                ...        ...      ...   \n",
              "1638 2019-07-12          2447177.0        NaT      NaN   \n",
              "1639 2019-07-11          2615115.0        NaT      NaN   \n",
              "1640 2019-07-10          2669717.0        NaT      NaN   \n",
              "1641 2019-07-09          2312178.0        NaT      NaN   \n",
              "1642 2019-07-08          2716812.0        NaT      NaN   \n",
              "\n",
              "      total_cases_per_million  new_cases_per_million  \\\n",
              "0                         NaN                    NaN   \n",
              "1                   305763.91                    0.0   \n",
              "2                   305763.91                    0.0   \n",
              "3                   305763.91                    0.0   \n",
              "4                   305763.91                    0.0   \n",
              "...                       ...                    ...   \n",
              "1638                      NaN                    NaN   \n",
              "1639                      NaN                    NaN   \n",
              "1640                      NaN                    NaN   \n",
              "1641                      NaN                    NaN   \n",
              "1642                      NaN                    NaN   \n",
              "\n",
              "      new_cases_smoothed_per_million  total_deaths_per_million  \\\n",
              "0                                NaN                       NaN   \n",
              "1                                0.0                  3331.912   \n",
              "2                                0.0                  3331.912   \n",
              "3                                0.0                  3331.912   \n",
              "4                                0.0                  3331.912   \n",
              "...                              ...                       ...   \n",
              "1638                             NaN                       NaN   \n",
              "1639                             NaN                       NaN   \n",
              "1640                             NaN                       NaN   \n",
              "1641                             NaN                       NaN   \n",
              "1642                             NaN                       NaN   \n",
              "\n",
              "      new_deaths_per_million  new_deaths_smoothed_per_million  \\\n",
              "0                        NaN                              NaN   \n",
              "1                        0.0                              0.0   \n",
              "2                        0.0                              0.0   \n",
              "3                        0.0                              0.0   \n",
              "4                        0.0                              0.0   \n",
              "...                      ...                              ...   \n",
              "1638                     NaN                              NaN   \n",
              "1639                     NaN                              NaN   \n",
              "1640                     NaN                              NaN   \n",
              "1641                     NaN                              NaN   \n",
              "1642                     NaN                              NaN   \n",
              "\n",
              "      icu_patients_per_million  hosp_patients_per_million  \\\n",
              "0                          NaN                        NaN   \n",
              "1                          NaN                        NaN   \n",
              "2                          NaN                        NaN   \n",
              "3                          NaN                        NaN   \n",
              "4                          NaN                        NaN   \n",
              "...                        ...                        ...   \n",
              "1638                       NaN                        NaN   \n",
              "1639                       NaN                        NaN   \n",
              "1640                       NaN                        NaN   \n",
              "1641                       NaN                        NaN   \n",
              "1642                       NaN                        NaN   \n",
              "\n",
              "      weekly_icu_admissions_per_million  weekly_hosp_admissions_per_million  \\\n",
              "0                                   NaN                                 NaN   \n",
              "1                                   NaN                                 NaN   \n",
              "2                                   NaN                                 NaN   \n",
              "3                                   NaN                                 NaN   \n",
              "4                                   NaN                                 NaN   \n",
              "...                                 ...                                 ...   \n",
              "1638                                NaN                                 NaN   \n",
              "1639                                NaN                                 NaN   \n",
              "1640                                NaN                                 NaN   \n",
              "1641                                NaN                                 NaN   \n",
              "1642                                NaN                                 NaN   \n",
              "\n",
              "      total_tests_per_thousand  new_tests_per_thousand  \\\n",
              "0                          NaN                     NaN   \n",
              "1                          NaN                     NaN   \n",
              "2                          NaN                     NaN   \n",
              "3                          NaN                     NaN   \n",
              "4                          NaN                     NaN   \n",
              "...                        ...                     ...   \n",
              "1638                       NaN                     NaN   \n",
              "1639                       NaN                     NaN   \n",
              "1640                       NaN                     NaN   \n",
              "1641                       NaN                     NaN   \n",
              "1642                       NaN                     NaN   \n",
              "\n",
              "      new_tests_smoothed_per_thousand  positive_rate  tests_per_case  \\\n",
              "0                                 NaN            NaN             NaN   \n",
              "1                                 NaN            NaN             NaN   \n",
              "2                                 NaN            NaN             NaN   \n",
              "3                                 NaN            NaN             NaN   \n",
              "4                                 NaN            NaN             NaN   \n",
              "...                               ...            ...             ...   \n",
              "1638                              NaN            NaN             NaN   \n",
              "1639                              NaN            NaN             NaN   \n",
              "1640                              NaN            NaN             NaN   \n",
              "1641                              NaN            NaN             NaN   \n",
              "1642                              NaN            NaN             NaN   \n",
              "\n",
              "      total_vaccinations  people_vaccinated  people_fully_vaccinated  \\\n",
              "0                    NaN                NaN                      NaN   \n",
              "1                    NaN                NaN                      NaN   \n",
              "2                    NaN                NaN                      NaN   \n",
              "3                    NaN                NaN                      NaN   \n",
              "4                    NaN                NaN                      NaN   \n",
              "...                  ...                ...                      ...   \n",
              "1638                 NaN                NaN                      NaN   \n",
              "1639                 NaN                NaN                      NaN   \n",
              "1640                 NaN                NaN                      NaN   \n",
              "1641                 NaN                NaN                      NaN   \n",
              "1642                 NaN                NaN                      NaN   \n",
              "\n",
              "      total_boosters  new_vaccinations  new_vaccinations_smoothed  \\\n",
              "0                NaN               NaN                        NaN   \n",
              "1                NaN               NaN                        NaN   \n",
              "2                NaN               NaN                        NaN   \n",
              "3                NaN               NaN                        NaN   \n",
              "4                NaN               NaN                        NaN   \n",
              "...              ...               ...                        ...   \n",
              "1638             NaN               NaN                        NaN   \n",
              "1639             NaN               NaN                        NaN   \n",
              "1640             NaN               NaN                        NaN   \n",
              "1641             NaN               NaN                        NaN   \n",
              "1642             NaN               NaN                        NaN   \n",
              "\n",
              "      total_vaccinations_per_hundred  people_vaccinated_per_hundred  \\\n",
              "0                                NaN                            NaN   \n",
              "1                                NaN                            NaN   \n",
              "2                                NaN                            NaN   \n",
              "3                                NaN                            NaN   \n",
              "4                                NaN                            NaN   \n",
              "...                              ...                            ...   \n",
              "1638                             NaN                            NaN   \n",
              "1639                             NaN                            NaN   \n",
              "1640                             NaN                            NaN   \n",
              "1641                             NaN                            NaN   \n",
              "1642                             NaN                            NaN   \n",
              "\n",
              "      people_fully_vaccinated_per_hundred  total_boosters_per_hundred  \\\n",
              "0                                     NaN                         NaN   \n",
              "1                                     NaN                         NaN   \n",
              "2                                     NaN                         NaN   \n",
              "3                                     NaN                         NaN   \n",
              "4                                     NaN                         NaN   \n",
              "...                                   ...                         ...   \n",
              "1638                                  NaN                         NaN   \n",
              "1639                                  NaN                         NaN   \n",
              "1640                                  NaN                         NaN   \n",
              "1641                                  NaN                         NaN   \n",
              "1642                                  NaN                         NaN   \n",
              "\n",
              "      new_vaccinations_smoothed_per_million  \\\n",
              "0                                       NaN   \n",
              "1                                       NaN   \n",
              "2                                       NaN   \n",
              "3                                       NaN   \n",
              "4                                       NaN   \n",
              "...                                     ...   \n",
              "1638                                    NaN   \n",
              "1639                                    NaN   \n",
              "1640                                    NaN   \n",
              "1641                                    NaN   \n",
              "1642                                    NaN   \n",
              "\n",
              "      new_people_vaccinated_smoothed_per_hundred  stringency_index  \n",
              "0                                            NaN               NaN  \n",
              "1                                            NaN               NaN  \n",
              "2                                            NaN               NaN  \n",
              "3                                            NaN               NaN  \n",
              "4                                            NaN               NaN  \n",
              "...                                          ...               ...  \n",
              "1638                                         NaN               NaN  \n",
              "1639                                         NaN               NaN  \n",
              "1640                                         NaN               NaN  \n",
              "1641                                         NaN               NaN  \n",
              "1642                                         NaN               NaN  \n",
              "\n",
              "[1643 rows x 32 columns]>"
            ]
          },
          "metadata": {},
          "execution_count": 23
        }
      ]
    },
    {
      "cell_type": "code",
      "source": [
        "merged_df.columns"
      ],
      "metadata": {
        "id": "fonqeVZDLOJD",
        "colab": {
          "base_uri": "https://localhost:8080/"
        },
        "outputId": "f01b2bff-1678-4886-9949-88c68108cd11"
      },
      "execution_count": 24,
      "outputs": [
        {
          "output_type": "execute_result",
          "data": {
            "text/plain": [
              "Index(['Date', 'Passenger Numbers', 'date', 'iso_code',\n",
              "       'total_cases_per_million', 'new_cases_per_million',\n",
              "       'new_cases_smoothed_per_million', 'total_deaths_per_million',\n",
              "       'new_deaths_per_million', 'new_deaths_smoothed_per_million',\n",
              "       'icu_patients_per_million', 'hosp_patients_per_million',\n",
              "       'weekly_icu_admissions_per_million',\n",
              "       'weekly_hosp_admissions_per_million', 'total_tests_per_thousand',\n",
              "       'new_tests_per_thousand', 'new_tests_smoothed_per_thousand',\n",
              "       'positive_rate', 'tests_per_case', 'total_vaccinations',\n",
              "       'people_vaccinated', 'people_fully_vaccinated', 'total_boosters',\n",
              "       'new_vaccinations', 'new_vaccinations_smoothed',\n",
              "       'total_vaccinations_per_hundred', 'people_vaccinated_per_hundred',\n",
              "       'people_fully_vaccinated_per_hundred', 'total_boosters_per_hundred',\n",
              "       'new_vaccinations_smoothed_per_million',\n",
              "       'new_people_vaccinated_smoothed_per_hundred', 'stringency_index'],\n",
              "      dtype='object')"
            ]
          },
          "metadata": {},
          "execution_count": 24
        }
      ]
    },
    {
      "cell_type": "code",
      "source": [
        "merged_df = merged_df.drop(['date','iso_code'] ,axis=1)"
      ],
      "metadata": {
        "id": "xPnGQ8iuKerX"
      },
      "execution_count": 25,
      "outputs": []
    },
    {
      "cell_type": "markdown",
      "source": [
        "Addressing Missing Values"
      ],
      "metadata": {
        "id": "DA0a8B7F-5l0"
      }
    },
    {
      "cell_type": "code",
      "source": [
        "# Create a new DataFrame with missing values replaced using mean imputation\n",
        "imputed_df = merged_df.copy()\n",
        "\n",
        "#Iterate over each numeric column\n",
        "for column in merged_df.select_dtypes(include='number'):\n",
        "    # Calculate the mean of non-missing values in the current column\n",
        "    mean_value = merged_df[column].mean()\n",
        "\n",
        "    # Replace the missing values with the mean value\n",
        "    merged_df[column].fillna(mean_value, inplace=True)"
      ],
      "metadata": {
        "id": "-YCheEUR-Xov"
      },
      "execution_count": 26,
      "outputs": []
    },
    {
      "cell_type": "markdown",
      "source": [
        "Creating a variable for US holidays"
      ],
      "metadata": {
        "id": "AVTHnCA6JWNY"
      }
    },
    {
      "cell_type": "code",
      "source": [
        "# Create a holiday object for the United States\n",
        "holiday_obj = holidays.CountryHoliday('US')\n",
        "\n",
        "# Create a new column 'holiday' and assign 1 if the date matches a US holiday, 0 otherwise\n",
        "merged_df['holiday'] = merged_df['Date'].apply(lambda x: 1 if x in holiday_obj else 0)\n"
      ],
      "metadata": {
        "id": "OPyeNuOyS_J9"
      },
      "execution_count": 27,
      "outputs": []
    },
    {
      "cell_type": "code",
      "source": [
        "merged_df.dtypes"
      ],
      "metadata": {
        "colab": {
          "base_uri": "https://localhost:8080/"
        },
        "id": "7NLfYU3TK3MY",
        "outputId": "e82087fd-a9d6-47af-afc8-3c9e452cc497"
      },
      "execution_count": 28,
      "outputs": [
        {
          "output_type": "execute_result",
          "data": {
            "text/plain": [
              "Date                                          datetime64[ns]\n",
              "Passenger Numbers                                    float64\n",
              "total_cases_per_million                              float64\n",
              "new_cases_per_million                                float64\n",
              "new_cases_smoothed_per_million                       float64\n",
              "total_deaths_per_million                             float64\n",
              "new_deaths_per_million                               float64\n",
              "new_deaths_smoothed_per_million                      float64\n",
              "icu_patients_per_million                             float64\n",
              "hosp_patients_per_million                            float64\n",
              "weekly_icu_admissions_per_million                    float64\n",
              "weekly_hosp_admissions_per_million                   float64\n",
              "total_tests_per_thousand                             float64\n",
              "new_tests_per_thousand                               float64\n",
              "new_tests_smoothed_per_thousand                      float64\n",
              "positive_rate                                        float64\n",
              "tests_per_case                                       float64\n",
              "total_vaccinations                                   float64\n",
              "people_vaccinated                                    float64\n",
              "people_fully_vaccinated                              float64\n",
              "total_boosters                                       float64\n",
              "new_vaccinations                                     float64\n",
              "new_vaccinations_smoothed                            float64\n",
              "total_vaccinations_per_hundred                       float64\n",
              "people_vaccinated_per_hundred                        float64\n",
              "people_fully_vaccinated_per_hundred                  float64\n",
              "total_boosters_per_hundred                           float64\n",
              "new_vaccinations_smoothed_per_million                float64\n",
              "new_people_vaccinated_smoothed_per_hundred           float64\n",
              "stringency_index                                     float64\n",
              "holiday                                                int64\n",
              "dtype: object"
            ]
          },
          "metadata": {},
          "execution_count": 28
        }
      ]
    },
    {
      "cell_type": "markdown",
      "source": [
        "# Data Preprocessing"
      ],
      "metadata": {
        "id": "mXkSEoM12tVR"
      }
    },
    {
      "cell_type": "code",
      "source": [
        "# Convert NaN values to 0\n",
        "#merged_df.fillna(0, inplace=True)"
      ],
      "metadata": {
        "id": "9BNULKcEX9xY"
      },
      "execution_count": 29,
      "outputs": []
    },
    {
      "cell_type": "code",
      "source": [
        "# Select the columns to standardize and demean (excluding 'Date' and 'holiday')\n",
        "columns_to_standardize_demean = [col for col in merged_df.columns if col not in ['Date', 'holiday']]\n",
        "\n",
        "# Extract the 'Date' and 'holiday' columns\n",
        "date_column = merged_df['Date']\n",
        "holiday_column = merged_df['holiday']\n",
        "\n",
        "# Standardize the selected columns\n",
        "scaler = StandardScaler()\n",
        "merged_df[columns_to_standardize_demean] = scaler.fit_transform(merged_df[columns_to_standardize_demean])\n",
        "\n",
        "# Demean the selected columns\n",
        "merged_df[columns_to_standardize_demean] = merged_df[columns_to_standardize_demean].apply(lambda x: x - x.mean())\n",
        "\n",
        "# Restore the 'Date' and 'holiday' columns\n",
        "merged_df['Date'] = date_column\n",
        "merged_df['holiday'] = holiday_column\n",
        "\n",
        "# Print the standardized and demeaned dataset\n",
        "print(merged_df.head())"
      ],
      "metadata": {
        "colab": {
          "base_uri": "https://localhost:8080/"
        },
        "id": "CXTWJuJXVxft",
        "outputId": "abfef7ba-acb7-4739-8a04-272cb13c107b"
      },
      "execution_count": 30,
      "outputs": [
        {
          "output_type": "stream",
          "name": "stdout",
          "text": [
            "        Date  Passenger Numbers  total_cases_per_million  \\\n",
            "0 2023-07-06           1.083828                 0.000000   \n",
            "1 2023-07-05           1.014481                 1.553805   \n",
            "2 2023-07-04           0.331008                 1.553805   \n",
            "3 2023-07-03           0.736760                 1.553805   \n",
            "4 2023-07-02           1.084618                 1.553805   \n",
            "\n",
            "   new_cases_per_million  new_cases_smoothed_per_million  \\\n",
            "0          -4.626060e-17                    5.189600e-17   \n",
            "1          -7.403685e-01                   -8.445902e-01   \n",
            "2          -7.403685e-01                   -8.445902e-01   \n",
            "3          -7.403685e-01                   -8.445902e-01   \n",
            "4          -7.403685e-01                   -8.445902e-01   \n",
            "\n",
            "   total_deaths_per_million  new_deaths_per_million  \\\n",
            "0              1.044527e-16            9.387201e-17   \n",
            "1              1.371823e+00           -1.062694e+00   \n",
            "2              1.371823e+00           -1.062694e+00   \n",
            "3              1.371823e+00           -1.062694e+00   \n",
            "4              1.371823e+00           -1.062694e+00   \n",
            "\n",
            "   new_deaths_smoothed_per_million  icu_patients_per_million  \\\n",
            "0                    -1.300533e-16             -3.459733e-17   \n",
            "1                    -1.278645e+00             -3.459733e-17   \n",
            "2                    -1.278645e+00             -3.459733e-17   \n",
            "3                    -1.278645e+00             -3.459733e-17   \n",
            "4                    -1.278645e+00             -3.459733e-17   \n",
            "\n",
            "   hosp_patients_per_million  weekly_icu_admissions_per_million  \\\n",
            "0                        0.0                                NaN   \n",
            "1                        0.0                                NaN   \n",
            "2                        0.0                                NaN   \n",
            "3                        0.0                                NaN   \n",
            "4                        0.0                                NaN   \n",
            "\n",
            "   weekly_hosp_admissions_per_million  total_tests_per_thousand  \\\n",
            "0                       -2.346319e-16              1.729867e-16   \n",
            "1                       -2.346319e-16              1.729867e-16   \n",
            "2                       -2.346319e-16              1.729867e-16   \n",
            "3                       -2.346319e-16              1.729867e-16   \n",
            "4                       -2.346319e-16              1.729867e-16   \n",
            "\n",
            "   new_tests_per_thousand  new_tests_smoothed_per_thousand  positive_rate  \\\n",
            "0            1.037920e-16                     2.767787e-16   8.649333e-18   \n",
            "1            1.037920e-16                     2.767787e-16   8.649333e-18   \n",
            "2            1.037920e-16                     2.767787e-16   8.649333e-18   \n",
            "3            1.037920e-16                     2.767787e-16   8.649333e-18   \n",
            "4            1.037920e-16                     2.767787e-16   8.649333e-18   \n",
            "\n",
            "   tests_per_case  total_vaccinations  people_vaccinated  \\\n",
            "0    5.261496e-17       -9.493215e-17       5.816260e-17   \n",
            "1    5.261496e-17       -9.493215e-17       5.816260e-17   \n",
            "2    5.261496e-17       -9.493215e-17       5.816260e-17   \n",
            "3    5.261496e-17       -9.493215e-17       5.816260e-17   \n",
            "4    5.261496e-17       -9.493215e-17       5.816260e-17   \n",
            "\n",
            "   people_fully_vaccinated  total_boosters  new_vaccinations  \\\n",
            "0            -1.059002e-16             0.0     -5.086200e-17   \n",
            "1            -1.059002e-16             0.0     -5.086200e-17   \n",
            "2            -1.059002e-16             0.0     -5.086200e-17   \n",
            "3            -1.059002e-16             0.0     -5.086200e-17   \n",
            "4            -1.059002e-16             0.0     -5.086200e-17   \n",
            "\n",
            "   new_vaccinations_smoothed  total_vaccinations_per_hundred  \\\n",
            "0               3.412265e-17                   -1.037920e-16   \n",
            "1               3.412265e-17                   -1.037920e-16   \n",
            "2               3.412265e-17                   -1.037920e-16   \n",
            "3               3.412265e-17                   -1.037920e-16   \n",
            "4               3.412265e-17                   -1.037920e-16   \n",
            "\n",
            "   people_vaccinated_per_hundred  people_fully_vaccinated_per_hundred  \\\n",
            "0                  -2.594800e-16                         1.989347e-16   \n",
            "1                  -2.594800e-16                         1.989347e-16   \n",
            "2                  -2.594800e-16                         1.989347e-16   \n",
            "3                  -2.594800e-16                         1.989347e-16   \n",
            "4                  -2.594800e-16                         1.989347e-16   \n",
            "\n",
            "   total_boosters_per_hundred  new_vaccinations_smoothed_per_million  \\\n",
            "0                3.987495e-17                          -5.949778e-17   \n",
            "1                3.987495e-17                          -5.949778e-17   \n",
            "2                3.987495e-17                          -5.949778e-17   \n",
            "3                3.987495e-17                          -5.949778e-17   \n",
            "4                3.987495e-17                          -5.949778e-17   \n",
            "\n",
            "   new_people_vaccinated_smoothed_per_hundred  stringency_index  holiday  \n",
            "0                                2.540742e-17      1.210907e-16        0  \n",
            "1                                2.540742e-17      1.210907e-16        0  \n",
            "2                                2.540742e-17      1.210907e-16        1  \n",
            "3                                2.540742e-17      1.210907e-16        0  \n",
            "4                                2.540742e-17      1.210907e-16        0  \n"
          ]
        }
      ]
    },
    {
      "cell_type": "markdown",
      "source": [
        "# Creating Additional variables"
      ],
      "metadata": {
        "id": "IEWwakn414Mi"
      }
    },
    {
      "cell_type": "code",
      "source": [
        "# Create a time trend variable : Calculating the number of weeks since the minimum date\n",
        "merged_df['WeekNumber'] = (merged_df['Date'] - merged_df['Date'].min()).dt.days // 7"
      ],
      "metadata": {
        "id": "OoVbrfmqY9nx"
      },
      "execution_count": 31,
      "outputs": []
    },
    {
      "cell_type": "code",
      "source": [
        "# Convert 'WeekNumber' column to float data type\n",
        "merged_df['WeekNumber'] = merged_df['WeekNumber'].astype(int)"
      ],
      "metadata": {
        "id": "F96Vaasldtak"
      },
      "execution_count": 32,
      "outputs": []
    },
    {
      "cell_type": "markdown",
      "source": [
        "# Feature Selection + Training-Test Split"
      ],
      "metadata": {
        "id": "BxXamsMh2-jJ"
      }
    },
    {
      "cell_type": "code",
      "source": [
        "# Separate features and target variable\n",
        "features = merged_df.drop(['Passenger Numbers', 'Date'], axis=1)\n",
        "target = merged_df['Passenger Numbers']"
      ],
      "metadata": {
        "id": "AOxU0-oefLMg"
      },
      "execution_count": 33,
      "outputs": []
    },
    {
      "cell_type": "code",
      "source": [
        "# Sort data in Chronological order\n",
        "merged_df = merged_df.sort_values('Date')\n",
        "\n",
        "# Reset the index after sorting\n",
        "merged_df = merged_df.reset_index(drop=True)"
      ],
      "metadata": {
        "id": "CiOg2gzBoTDJ"
      },
      "execution_count": 34,
      "outputs": []
    },
    {
      "cell_type": "code",
      "source": [
        "# Create TimeSeriesSplit with 5 splits\n",
        "tscv = TimeSeriesSplit(n_splits=5)\n",
        "\n",
        "# Initialize variables to store the training and test sets\n",
        "train_indices = []\n",
        "test_indices = []\n",
        "\n",
        "# Perform time-based splitting\n",
        "for train_index, test_index in tscv.split(features):\n",
        "    train_indices.append(train_index)\n",
        "    test_indices.append(test_index)\n",
        "\n",
        "# Get the last split's indices\n",
        "last_train_index = train_indices[-1]\n",
        "last_test_index = test_indices[-1]\n",
        "\n",
        "# Retrieve the final training and test sets\n",
        "X_train = features.iloc[last_train_index]\n",
        "X_test = features.iloc[last_test_index]\n",
        "y_train = target.iloc[last_train_index]\n",
        "y_test = target.iloc[last_test_index]\n",
        "\n",
        "# Print the sizes of the training and test sets\n",
        "print(\"Training set size:\", len(X_train))\n",
        "print(\"Test set size:\", len(X_test))"
      ],
      "metadata": {
        "id": "6DcL2WqmCUyc",
        "colab": {
          "base_uri": "https://localhost:8080/"
        },
        "outputId": "494d5f1a-f653-422c-82b8-37ea7e32117a"
      },
      "execution_count": 35,
      "outputs": [
        {
          "output_type": "stream",
          "name": "stdout",
          "text": [
            "Training set size: 1370\n",
            "Test set size: 273\n"
          ]
        }
      ]
    },
    {
      "cell_type": "code",
      "source": [
        "X_train.columns"
      ],
      "metadata": {
        "colab": {
          "base_uri": "https://localhost:8080/"
        },
        "id": "UeLce_-XjYH7",
        "outputId": "dbebbedc-d7bf-4899-b235-2312380e0c23"
      },
      "execution_count": 36,
      "outputs": [
        {
          "output_type": "execute_result",
          "data": {
            "text/plain": [
              "Index(['total_cases_per_million', 'new_cases_per_million',\n",
              "       'new_cases_smoothed_per_million', 'total_deaths_per_million',\n",
              "       'new_deaths_per_million', 'new_deaths_smoothed_per_million',\n",
              "       'icu_patients_per_million', 'hosp_patients_per_million',\n",
              "       'weekly_icu_admissions_per_million',\n",
              "       'weekly_hosp_admissions_per_million', 'total_tests_per_thousand',\n",
              "       'new_tests_per_thousand', 'new_tests_smoothed_per_thousand',\n",
              "       'positive_rate', 'tests_per_case', 'total_vaccinations',\n",
              "       'people_vaccinated', 'people_fully_vaccinated', 'total_boosters',\n",
              "       'new_vaccinations', 'new_vaccinations_smoothed',\n",
              "       'total_vaccinations_per_hundred', 'people_vaccinated_per_hundred',\n",
              "       'people_fully_vaccinated_per_hundred', 'total_boosters_per_hundred',\n",
              "       'new_vaccinations_smoothed_per_million',\n",
              "       'new_people_vaccinated_smoothed_per_hundred', 'stringency_index',\n",
              "       'holiday', 'WeekNumber'],\n",
              "      dtype='object')"
            ]
          },
          "metadata": {},
          "execution_count": 36
        }
      ]
    },
    {
      "cell_type": "markdown",
      "source": [
        "#Applying Predictive Models"
      ],
      "metadata": {
        "id": "QZpOUZWb3HF7"
      }
    },
    {
      "cell_type": "code",
      "source": [
        "#Model 1: XGBoost regressor\n",
        "model = XGBRegressor()\n",
        "model.fit(features, target)"
      ],
      "metadata": {
        "id": "P9AZkPMHsuMO",
        "colab": {
          "base_uri": "https://localhost:8080/",
          "height": 248
        },
        "outputId": "22724ff8-cf6e-4949-bb95-29dc6860e2ae"
      },
      "execution_count": 37,
      "outputs": [
        {
          "output_type": "execute_result",
          "data": {
            "text/plain": [
              "XGBRegressor(base_score=None, booster=None, callbacks=None,\n",
              "             colsample_bylevel=None, colsample_bynode=None,\n",
              "             colsample_bytree=None, early_stopping_rounds=None,\n",
              "             enable_categorical=False, eval_metric=None, feature_types=None,\n",
              "             gamma=None, gpu_id=None, grow_policy=None, importance_type=None,\n",
              "             interaction_constraints=None, learning_rate=None, max_bin=None,\n",
              "             max_cat_threshold=None, max_cat_to_onehot=None,\n",
              "             max_delta_step=None, max_depth=None, max_leaves=None,\n",
              "             min_child_weight=None, missing=nan, monotone_constraints=None,\n",
              "             n_estimators=100, n_jobs=None, num_parallel_tree=None,\n",
              "             predictor=None, random_state=None, ...)"
            ],
            "text/html": [
              "<style>#sk-container-id-1 {color: black;background-color: white;}#sk-container-id-1 pre{padding: 0;}#sk-container-id-1 div.sk-toggleable {background-color: white;}#sk-container-id-1 label.sk-toggleable__label {cursor: pointer;display: block;width: 100%;margin-bottom: 0;padding: 0.3em;box-sizing: border-box;text-align: center;}#sk-container-id-1 label.sk-toggleable__label-arrow:before {content: \"▸\";float: left;margin-right: 0.25em;color: #696969;}#sk-container-id-1 label.sk-toggleable__label-arrow:hover:before {color: black;}#sk-container-id-1 div.sk-estimator:hover label.sk-toggleable__label-arrow:before {color: black;}#sk-container-id-1 div.sk-toggleable__content {max-height: 0;max-width: 0;overflow: hidden;text-align: left;background-color: #f0f8ff;}#sk-container-id-1 div.sk-toggleable__content pre {margin: 0.2em;color: black;border-radius: 0.25em;background-color: #f0f8ff;}#sk-container-id-1 input.sk-toggleable__control:checked~div.sk-toggleable__content {max-height: 200px;max-width: 100%;overflow: auto;}#sk-container-id-1 input.sk-toggleable__control:checked~label.sk-toggleable__label-arrow:before {content: \"▾\";}#sk-container-id-1 div.sk-estimator input.sk-toggleable__control:checked~label.sk-toggleable__label {background-color: #d4ebff;}#sk-container-id-1 div.sk-label input.sk-toggleable__control:checked~label.sk-toggleable__label {background-color: #d4ebff;}#sk-container-id-1 input.sk-hidden--visually {border: 0;clip: rect(1px 1px 1px 1px);clip: rect(1px, 1px, 1px, 1px);height: 1px;margin: -1px;overflow: hidden;padding: 0;position: absolute;width: 1px;}#sk-container-id-1 div.sk-estimator {font-family: monospace;background-color: #f0f8ff;border: 1px dotted black;border-radius: 0.25em;box-sizing: border-box;margin-bottom: 0.5em;}#sk-container-id-1 div.sk-estimator:hover {background-color: #d4ebff;}#sk-container-id-1 div.sk-parallel-item::after {content: \"\";width: 100%;border-bottom: 1px solid gray;flex-grow: 1;}#sk-container-id-1 div.sk-label:hover label.sk-toggleable__label {background-color: #d4ebff;}#sk-container-id-1 div.sk-serial::before {content: \"\";position: absolute;border-left: 1px solid gray;box-sizing: border-box;top: 0;bottom: 0;left: 50%;z-index: 0;}#sk-container-id-1 div.sk-serial {display: flex;flex-direction: column;align-items: center;background-color: white;padding-right: 0.2em;padding-left: 0.2em;position: relative;}#sk-container-id-1 div.sk-item {position: relative;z-index: 1;}#sk-container-id-1 div.sk-parallel {display: flex;align-items: stretch;justify-content: center;background-color: white;position: relative;}#sk-container-id-1 div.sk-item::before, #sk-container-id-1 div.sk-parallel-item::before {content: \"\";position: absolute;border-left: 1px solid gray;box-sizing: border-box;top: 0;bottom: 0;left: 50%;z-index: -1;}#sk-container-id-1 div.sk-parallel-item {display: flex;flex-direction: column;z-index: 1;position: relative;background-color: white;}#sk-container-id-1 div.sk-parallel-item:first-child::after {align-self: flex-end;width: 50%;}#sk-container-id-1 div.sk-parallel-item:last-child::after {align-self: flex-start;width: 50%;}#sk-container-id-1 div.sk-parallel-item:only-child::after {width: 0;}#sk-container-id-1 div.sk-dashed-wrapped {border: 1px dashed gray;margin: 0 0.4em 0.5em 0.4em;box-sizing: border-box;padding-bottom: 0.4em;background-color: white;}#sk-container-id-1 div.sk-label label {font-family: monospace;font-weight: bold;display: inline-block;line-height: 1.2em;}#sk-container-id-1 div.sk-label-container {text-align: center;}#sk-container-id-1 div.sk-container {/* jupyter's `normalize.less` sets `[hidden] { display: none; }` but bootstrap.min.css set `[hidden] { display: none !important; }` so we also need the `!important` here to be able to override the default hidden behavior on the sphinx rendered scikit-learn.org. See: https://github.com/scikit-learn/scikit-learn/issues/21755 */display: inline-block !important;position: relative;}#sk-container-id-1 div.sk-text-repr-fallback {display: none;}</style><div id=\"sk-container-id-1\" class=\"sk-top-container\"><div class=\"sk-text-repr-fallback\"><pre>XGBRegressor(base_score=None, booster=None, callbacks=None,\n",
              "             colsample_bylevel=None, colsample_bynode=None,\n",
              "             colsample_bytree=None, early_stopping_rounds=None,\n",
              "             enable_categorical=False, eval_metric=None, feature_types=None,\n",
              "             gamma=None, gpu_id=None, grow_policy=None, importance_type=None,\n",
              "             interaction_constraints=None, learning_rate=None, max_bin=None,\n",
              "             max_cat_threshold=None, max_cat_to_onehot=None,\n",
              "             max_delta_step=None, max_depth=None, max_leaves=None,\n",
              "             min_child_weight=None, missing=nan, monotone_constraints=None,\n",
              "             n_estimators=100, n_jobs=None, num_parallel_tree=None,\n",
              "             predictor=None, random_state=None, ...)</pre><b>In a Jupyter environment, please rerun this cell to show the HTML representation or trust the notebook. <br />On GitHub, the HTML representation is unable to render, please try loading this page with nbviewer.org.</b></div><div class=\"sk-container\" hidden><div class=\"sk-item\"><div class=\"sk-estimator sk-toggleable\"><input class=\"sk-toggleable__control sk-hidden--visually\" id=\"sk-estimator-id-1\" type=\"checkbox\" checked><label for=\"sk-estimator-id-1\" class=\"sk-toggleable__label sk-toggleable__label-arrow\">XGBRegressor</label><div class=\"sk-toggleable__content\"><pre>XGBRegressor(base_score=None, booster=None, callbacks=None,\n",
              "             colsample_bylevel=None, colsample_bynode=None,\n",
              "             colsample_bytree=None, early_stopping_rounds=None,\n",
              "             enable_categorical=False, eval_metric=None, feature_types=None,\n",
              "             gamma=None, gpu_id=None, grow_policy=None, importance_type=None,\n",
              "             interaction_constraints=None, learning_rate=None, max_bin=None,\n",
              "             max_cat_threshold=None, max_cat_to_onehot=None,\n",
              "             max_delta_step=None, max_depth=None, max_leaves=None,\n",
              "             min_child_weight=None, missing=nan, monotone_constraints=None,\n",
              "             n_estimators=100, n_jobs=None, num_parallel_tree=None,\n",
              "             predictor=None, random_state=None, ...)</pre></div></div></div></div></div>"
            ]
          },
          "metadata": {},
          "execution_count": 37
        }
      ]
    },
    {
      "cell_type": "code",
      "source": [
        "rfe = RFE(estimator=model, n_features_to_select=5)\n",
        "\n",
        "# Perform feature selection\n",
        "X_train_selected = rfe.fit_transform(X_train, y_train)\n",
        "\n",
        "# Get the selected feature indices\n",
        "selected_indices = rfe.get_support(indices=True)\n",
        "\n",
        "# Get the selected feature names\n",
        "selected_features = merged_df.columns[selected_indices]\n",
        "\n",
        "# Print the selected feature names\n",
        "print(\"Selected Features:\")\n",
        "for feature in selected_features:\n",
        "    print(feature)\n"
      ],
      "metadata": {
        "colab": {
          "base_uri": "https://localhost:8080/"
        },
        "id": "YXpBfSBso5jK",
        "outputId": "95bcb26f-fc87-4212-9b4f-41ad8eebe5d0"
      },
      "execution_count": 38,
      "outputs": [
        {
          "output_type": "stream",
          "name": "stdout",
          "text": [
            "Selected Features:\n",
            "Date\n",
            "new_cases_per_million\n",
            "total_tests_per_thousand\n",
            "new_vaccinations_smoothed_per_million\n",
            "stringency_index\n"
          ]
        }
      ]
    },
    {
      "cell_type": "code",
      "source": [
        "# Update features\n",
        "X_train = features.iloc[train_index][['total_cases_per_million', 'weekly_hosp_admissions_per_million',\n",
        "                                          'new_vaccinations_smoothed_per_million', 'stringency_index',\n",
        "                                          'WeekNumber', 'holiday']]\n",
        "X_test = features.iloc[test_index][['total_cases_per_million', 'weekly_hosp_admissions_per_million',\n",
        "                                        'new_vaccinations_smoothed_per_million', 'stringency_index',\n",
        "                                        'WeekNumber', 'holiday']]"
      ],
      "metadata": {
        "id": "LfZ3SvDCkkvX"
      },
      "execution_count": 39,
      "outputs": []
    },
    {
      "cell_type": "code",
      "source": [
        "#Model1: XGBoost model\n",
        "model = xgb.XGBRegressor()\n",
        "model.fit(X_train, y_train)\n",
        "\n",
        "# Make predictions on the test set\n",
        "predictions = model.predict(X_test)\n",
        "\n",
        "# Evaluate the model on the test set\n",
        "xgboost_mse = mean_squared_error(y_test, predictions)\n",
        "print(\"Mean Squared Error:\", xgboost_mse)"
      ],
      "metadata": {
        "colab": {
          "base_uri": "https://localhost:8080/"
        },
        "id": "SI3bpQu2MsS9",
        "outputId": "81cbf103-33cc-4c7a-b501-ffa842fe390c"
      },
      "execution_count": 40,
      "outputs": [
        {
          "output_type": "stream",
          "name": "stdout",
          "text": [
            "Mean Squared Error: 0.21693390434766957\n"
          ]
        }
      ]
    },
    {
      "cell_type": "code",
      "source": [
        "# Get feature importances\n",
        "feature_importances = model.feature_importances_\n",
        "\n",
        "# Create a DataFrame to display feature importances\n",
        "importance_df = pd.DataFrame({'Feature': X_train.columns, 'Importance': feature_importances})\n",
        "importance_df = importance_df.sort_values('Importance', ascending=False)\n",
        "\n",
        "# Print feature importances\n",
        "print(importance_df)"
      ],
      "metadata": {
        "colab": {
          "base_uri": "https://localhost:8080/"
        },
        "id": "xoO6JVttL25t",
        "outputId": "c047635f-6587-4d52-d312-6a19c57b2120"
      },
      "execution_count": 41,
      "outputs": [
        {
          "output_type": "stream",
          "name": "stdout",
          "text": [
            "                                 Feature  Importance\n",
            "3                       stringency_index    0.949983\n",
            "2  new_vaccinations_smoothed_per_million    0.017052\n",
            "0                total_cases_per_million    0.012653\n",
            "4                             WeekNumber    0.011016\n",
            "1     weekly_hosp_admissions_per_million    0.006242\n",
            "5                                holiday    0.003055\n"
          ]
        }
      ]
    },
    {
      "cell_type": "code",
      "source": [
        "# Model 2: Linear Regression\n",
        "linear_model = LinearRegression()\n",
        "linear_model.fit(X_train, y_train)\n",
        "linear_pred = linear_model.predict(X_test)\n",
        "linear_mse = mean_squared_error(y_test, linear_pred)\n",
        "\n",
        "# Model 3: Random Forest Regression\n",
        "rf_model = RandomForestRegressor()\n",
        "rf_model.fit(X_train, y_train)\n",
        "rf_pred = rf_model.predict(X_test)\n",
        "rf_mse = mean_squared_error(y_test, rf_pred)\n",
        "\n",
        "# Model 4: Support Vector Regression (SVR)\n",
        "svr_model = SVR()\n",
        "svr_model.fit(X_train, y_train)\n",
        "svr_pred = svr_model.predict(X_test)\n",
        "svr_mse = mean_squared_error(y_test, svr_pred)\n",
        "\n",
        "# Compare the Mean Squared Error (MSE) of the models\n",
        "print(\"XGBoost:\", xgboost_mse)\n",
        "print(\"Linear Regression MSE:\", linear_mse)\n",
        "print(\"Random Forest Regression MSE:\", rf_mse)\n",
        "print(\"SVR MSE:\", svr_mse)\n"
      ],
      "metadata": {
        "colab": {
          "base_uri": "https://localhost:8080/"
        },
        "id": "-9HXAegyoern",
        "outputId": "10ba90c6-28ab-4ab6-a369-bf77d903387f"
      },
      "execution_count": 42,
      "outputs": [
        {
          "output_type": "stream",
          "name": "stdout",
          "text": [
            "XGBoost: 0.21693390434766957\n",
            "Linear Regression MSE: 0.2489514129377834\n",
            "Random Forest Regression MSE: 0.23130948704625656\n",
            "SVR MSE: 1.6551653090721121\n"
          ]
        }
      ]
    },
    {
      "cell_type": "markdown",
      "source": [
        "XGBoost has the least Mean Squared Error, followed by Random Forest and Linear Regression"
      ],
      "metadata": {
        "id": "YwiBKOGAG6XV"
      }
    },
    {
      "cell_type": "markdown",
      "source": [
        "Tuning hyperparameters- XGboost"
      ],
      "metadata": {
        "id": "CaR8HR_hHEF4"
      }
    },
    {
      "cell_type": "code",
      "source": [
        "# Define the XGBoost regressor\n",
        "model = xgb.XGBRegressor(random_state= 44)\n",
        "\n",
        "# Define the hyperparameter grid\n",
        "param_grid = {\n",
        "    'max_depth': [3, 4, 5],\n",
        "    'learning_rate': [0.05, 0.1, 0.2],\n",
        "    'n_estimators': [100, 150, 200],\n",
        "    'subsample': [0.8, 0.9, 1.0],\n",
        "    'colsample_bytree': [0.6, 0.8, 1.0]\n",
        "}\n",
        "\n",
        "# Perform grid search with cross-validation\n",
        "grid_search = GridSearchCV(estimator=model, param_grid=param_grid, cv=5, scoring='neg_mean_squared_error')\n",
        "grid_search.fit(X_train, y_train)\n",
        "\n",
        "# Get the best hyperparameters\n",
        "best_params = grid_search.best_params_\n",
        "\n",
        "# Train a new model using the best hyperparameters\n",
        "best_model = xgb.XGBRegressor(**best_params)\n",
        "best_model.fit(X_train, y_train)"
      ],
      "metadata": {
        "colab": {
          "base_uri": "https://localhost:8080/",
          "height": 248
        },
        "id": "OGnAt1P5pBmd",
        "outputId": "d1e217d2-833d-45b9-960e-1dd9859665a5"
      },
      "execution_count": 43,
      "outputs": [
        {
          "output_type": "execute_result",
          "data": {
            "text/plain": [
              "XGBRegressor(base_score=None, booster=None, callbacks=None,\n",
              "             colsample_bylevel=None, colsample_bynode=None,\n",
              "             colsample_bytree=0.6, early_stopping_rounds=None,\n",
              "             enable_categorical=False, eval_metric=None, feature_types=None,\n",
              "             gamma=None, gpu_id=None, grow_policy=None, importance_type=None,\n",
              "             interaction_constraints=None, learning_rate=0.05, max_bin=None,\n",
              "             max_cat_threshold=None, max_cat_to_onehot=None,\n",
              "             max_delta_step=None, max_depth=5, max_leaves=None,\n",
              "             min_child_weight=None, missing=nan, monotone_constraints=None,\n",
              "             n_estimators=200, n_jobs=None, num_parallel_tree=None,\n",
              "             predictor=None, random_state=None, ...)"
            ],
            "text/html": [
              "<style>#sk-container-id-2 {color: black;background-color: white;}#sk-container-id-2 pre{padding: 0;}#sk-container-id-2 div.sk-toggleable {background-color: white;}#sk-container-id-2 label.sk-toggleable__label {cursor: pointer;display: block;width: 100%;margin-bottom: 0;padding: 0.3em;box-sizing: border-box;text-align: center;}#sk-container-id-2 label.sk-toggleable__label-arrow:before {content: \"▸\";float: left;margin-right: 0.25em;color: #696969;}#sk-container-id-2 label.sk-toggleable__label-arrow:hover:before {color: black;}#sk-container-id-2 div.sk-estimator:hover label.sk-toggleable__label-arrow:before {color: black;}#sk-container-id-2 div.sk-toggleable__content {max-height: 0;max-width: 0;overflow: hidden;text-align: left;background-color: #f0f8ff;}#sk-container-id-2 div.sk-toggleable__content pre {margin: 0.2em;color: black;border-radius: 0.25em;background-color: #f0f8ff;}#sk-container-id-2 input.sk-toggleable__control:checked~div.sk-toggleable__content {max-height: 200px;max-width: 100%;overflow: auto;}#sk-container-id-2 input.sk-toggleable__control:checked~label.sk-toggleable__label-arrow:before {content: \"▾\";}#sk-container-id-2 div.sk-estimator input.sk-toggleable__control:checked~label.sk-toggleable__label {background-color: #d4ebff;}#sk-container-id-2 div.sk-label input.sk-toggleable__control:checked~label.sk-toggleable__label {background-color: #d4ebff;}#sk-container-id-2 input.sk-hidden--visually {border: 0;clip: rect(1px 1px 1px 1px);clip: rect(1px, 1px, 1px, 1px);height: 1px;margin: -1px;overflow: hidden;padding: 0;position: absolute;width: 1px;}#sk-container-id-2 div.sk-estimator {font-family: monospace;background-color: #f0f8ff;border: 1px dotted black;border-radius: 0.25em;box-sizing: border-box;margin-bottom: 0.5em;}#sk-container-id-2 div.sk-estimator:hover {background-color: #d4ebff;}#sk-container-id-2 div.sk-parallel-item::after {content: \"\";width: 100%;border-bottom: 1px solid gray;flex-grow: 1;}#sk-container-id-2 div.sk-label:hover label.sk-toggleable__label {background-color: #d4ebff;}#sk-container-id-2 div.sk-serial::before {content: \"\";position: absolute;border-left: 1px solid gray;box-sizing: border-box;top: 0;bottom: 0;left: 50%;z-index: 0;}#sk-container-id-2 div.sk-serial {display: flex;flex-direction: column;align-items: center;background-color: white;padding-right: 0.2em;padding-left: 0.2em;position: relative;}#sk-container-id-2 div.sk-item {position: relative;z-index: 1;}#sk-container-id-2 div.sk-parallel {display: flex;align-items: stretch;justify-content: center;background-color: white;position: relative;}#sk-container-id-2 div.sk-item::before, #sk-container-id-2 div.sk-parallel-item::before {content: \"\";position: absolute;border-left: 1px solid gray;box-sizing: border-box;top: 0;bottom: 0;left: 50%;z-index: -1;}#sk-container-id-2 div.sk-parallel-item {display: flex;flex-direction: column;z-index: 1;position: relative;background-color: white;}#sk-container-id-2 div.sk-parallel-item:first-child::after {align-self: flex-end;width: 50%;}#sk-container-id-2 div.sk-parallel-item:last-child::after {align-self: flex-start;width: 50%;}#sk-container-id-2 div.sk-parallel-item:only-child::after {width: 0;}#sk-container-id-2 div.sk-dashed-wrapped {border: 1px dashed gray;margin: 0 0.4em 0.5em 0.4em;box-sizing: border-box;padding-bottom: 0.4em;background-color: white;}#sk-container-id-2 div.sk-label label {font-family: monospace;font-weight: bold;display: inline-block;line-height: 1.2em;}#sk-container-id-2 div.sk-label-container {text-align: center;}#sk-container-id-2 div.sk-container {/* jupyter's `normalize.less` sets `[hidden] { display: none; }` but bootstrap.min.css set `[hidden] { display: none !important; }` so we also need the `!important` here to be able to override the default hidden behavior on the sphinx rendered scikit-learn.org. See: https://github.com/scikit-learn/scikit-learn/issues/21755 */display: inline-block !important;position: relative;}#sk-container-id-2 div.sk-text-repr-fallback {display: none;}</style><div id=\"sk-container-id-2\" class=\"sk-top-container\"><div class=\"sk-text-repr-fallback\"><pre>XGBRegressor(base_score=None, booster=None, callbacks=None,\n",
              "             colsample_bylevel=None, colsample_bynode=None,\n",
              "             colsample_bytree=0.6, early_stopping_rounds=None,\n",
              "             enable_categorical=False, eval_metric=None, feature_types=None,\n",
              "             gamma=None, gpu_id=None, grow_policy=None, importance_type=None,\n",
              "             interaction_constraints=None, learning_rate=0.05, max_bin=None,\n",
              "             max_cat_threshold=None, max_cat_to_onehot=None,\n",
              "             max_delta_step=None, max_depth=5, max_leaves=None,\n",
              "             min_child_weight=None, missing=nan, monotone_constraints=None,\n",
              "             n_estimators=200, n_jobs=None, num_parallel_tree=None,\n",
              "             predictor=None, random_state=None, ...)</pre><b>In a Jupyter environment, please rerun this cell to show the HTML representation or trust the notebook. <br />On GitHub, the HTML representation is unable to render, please try loading this page with nbviewer.org.</b></div><div class=\"sk-container\" hidden><div class=\"sk-item\"><div class=\"sk-estimator sk-toggleable\"><input class=\"sk-toggleable__control sk-hidden--visually\" id=\"sk-estimator-id-2\" type=\"checkbox\" checked><label for=\"sk-estimator-id-2\" class=\"sk-toggleable__label sk-toggleable__label-arrow\">XGBRegressor</label><div class=\"sk-toggleable__content\"><pre>XGBRegressor(base_score=None, booster=None, callbacks=None,\n",
              "             colsample_bylevel=None, colsample_bynode=None,\n",
              "             colsample_bytree=0.6, early_stopping_rounds=None,\n",
              "             enable_categorical=False, eval_metric=None, feature_types=None,\n",
              "             gamma=None, gpu_id=None, grow_policy=None, importance_type=None,\n",
              "             interaction_constraints=None, learning_rate=0.05, max_bin=None,\n",
              "             max_cat_threshold=None, max_cat_to_onehot=None,\n",
              "             max_delta_step=None, max_depth=5, max_leaves=None,\n",
              "             min_child_weight=None, missing=nan, monotone_constraints=None,\n",
              "             n_estimators=200, n_jobs=None, num_parallel_tree=None,\n",
              "             predictor=None, random_state=None, ...)</pre></div></div></div></div></div>"
            ]
          },
          "metadata": {},
          "execution_count": 43
        }
      ]
    },
    {
      "cell_type": "code",
      "source": [
        "# Make predictions on the test data\n",
        "y_pred = best_model.predict(X_test)\n",
        "\n",
        "# Calculate the MSE\n",
        "mse_tuned_xgboost = mean_squared_error(y_test, y_pred)\n",
        "\n",
        "# Print the MSE\n",
        "print(\"Mean Squared Error:\",mse_tuned_xgboost)"
      ],
      "metadata": {
        "colab": {
          "base_uri": "https://localhost:8080/"
        },
        "id": "sAJItawwpwX7",
        "outputId": "46a400e9-dad6-44ed-f741-0a8d729d6560"
      },
      "execution_count": 44,
      "outputs": [
        {
          "output_type": "stream",
          "name": "stdout",
          "text": [
            "Mean Squared Error: 0.1947624243581956\n"
          ]
        }
      ]
    },
    {
      "cell_type": "code",
      "source": [
        "# Get the feature importances\n",
        "feature_importance = best_model.feature_importances_\n",
        "\n",
        "# Create a dictionary to store feature importance values\n",
        "feature_importance_dict = dict(zip(X_train.columns, feature_importance))\n",
        "\n",
        "# Sort the feature importance values in descending order\n",
        "sorted_feature_importance = sorted(feature_importance_dict.items(), key=lambda x: x[1], reverse=True)\n",
        "\n",
        "# Print the feature importance values\n",
        "print(\"Feature Importance:\")\n",
        "for feature, importance in sorted_feature_importance:\n",
        "    print(f\"{feature}: {importance}\")"
      ],
      "metadata": {
        "colab": {
          "base_uri": "https://localhost:8080/"
        },
        "id": "d-DwO_JLGSyc",
        "outputId": "e5f6531a-9eeb-4acb-e2a9-0715864c7b52"
      },
      "execution_count": 45,
      "outputs": [
        {
          "output_type": "stream",
          "name": "stdout",
          "text": [
            "Feature Importance:\n",
            "stringency_index: 0.7634305357933044\n",
            "total_cases_per_million: 0.11244627833366394\n",
            "WeekNumber: 0.06805602461099625\n",
            "new_vaccinations_smoothed_per_million: 0.032573338598012924\n",
            "weekly_hosp_admissions_per_million: 0.018954535946249962\n",
            "holiday: 0.00453928904607892\n"
          ]
        }
      ]
    },
    {
      "cell_type": "code",
      "source": [
        "# Create a dictionary to store feature importance values\n",
        "feature_importance_dict = dict(zip(X_train.columns, feature_importance))\n",
        "\n",
        "# Sort the feature importance values in descending order\n",
        "sorted_feature_importance = sorted(feature_importance_dict.items(), key=lambda x: x[1], reverse=True)\n",
        "\n",
        "# Extract feature names and importance values\n",
        "features, importance_values = zip(*sorted_feature_importance)\n",
        "\n",
        "# Create a bar plot\n",
        "plt.figure(figsize=(10, 6))\n",
        "plt.bar(range(len(features)), importance_values, align='center')\n",
        "plt.xticks(range(len(features)), features, rotation='vertical')\n",
        "plt.xlabel('Features')\n",
        "plt.ylabel('Importance')\n",
        "plt.title('Feature Importance')\n",
        "plt.tight_layout()\n",
        "plt.show()"
      ],
      "metadata": {
        "colab": {
          "base_uri": "https://localhost:8080/",
          "height": 607
        },
        "id": "VblHfanZNf8o",
        "outputId": "5345d5c7-ae04-4301-eed1-e880e9c6d03a"
      },
      "execution_count": 46,
      "outputs": [
        {
          "output_type": "display_data",
          "data": {
            "text/plain": [
              "<Figure size 1000x600 with 1 Axes>"
            ],
            "image/png": "[encoded data removed]"
          },
          "metadata": {}
        }
      ]
    },
    {
      "cell_type": "markdown",
      "source": [
        "#Interpretation and Findings"
      ],
      "metadata": {
        "id": "XpG1fpJL3SGs"
      }
    },
    {
      "cell_type": "markdown",
      "source": [
        "* The tuned XGBoost model achieved the most effective performance among the methods tested, with a mean squared error (MSE) of 0.19. This indicates that the model's predictions deviated from the actual values by an average squared difference of 0.19\n",
        "\n",
        "* The most important feature in predicting passenger inflow is the stringency_index, with an importance score of approximately 0.76. Higher stringency measures, such as lockdowns or travel restrictions, are associated with reduced passenger inflow.\n",
        "\n",
        "* The total_cases_per_million and and WeekNumber have moderate importance (importance score of around 0.11 and 0.06 respectively).suggesting that higher COVID-19 case numbers per million people can reduce passenger flow and that specific weeks within the years influenced passenger flow patterns.\n",
        "* The number of new_vaccinations_smoothed_per_million had a relatively lower importance (0.32), implying that higher vaccination rates per million people positively influenced passenger flow to some extent.\n",
        "\n",
        "* The weekly_hosp_admissions_per_million and holiday features have relatively lower importance (importance scores around 0.018 and 0.004, respectively). They have a smaller impact on predicting passenger inflow, reflecting the healthcare situation"
      ],
      "metadata": {
        "id": "HXTsiJw7LZUm"
      }
    }
  ]
}